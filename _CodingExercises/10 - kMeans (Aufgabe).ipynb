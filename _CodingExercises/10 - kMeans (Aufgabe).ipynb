{
 "cells": [
  {
   "cell_type": "code",
   "execution_count": 91,
   "metadata": {},
   "outputs": [],
   "source": [
    "# Imports\n",
    "import numpy as np\n",
    "import pandas as pd\n",
    "import matplotlib.pyplot as plt\n",
    "from sklearn.datasets import load_iris\n",
    "from plotting import *"
   ]
  },
  {
   "cell_type": "code",
   "execution_count": 93,
   "metadata": {},
   "outputs": [
    {
     "name": "stdout",
     "output_type": "stream",
     "text": [
      "Samples:  150\n"
     ]
    }
   ],
   "source": [
    "# Dataset for Classification\n",
    "np.random.seed(42)\n",
    "dataset = load_iris()\n",
    "x = dataset.data[:, :2]\n",
    "y = dataset.target\n",
    "\n",
    "idx = np.random.permutation(len(x))\n",
    "x = x[idx]\n",
    "y = y[idx]\n",
    "\n",
    "print(\"Samples: \", len(x))"
   ]
  },
  {
   "cell_type": "code",
   "execution_count": 95,
   "metadata": {},
   "outputs": [
    {
     "data": {
      "text/html": [
       "<div>\n",
       "<style scoped>\n",
       "    .dataframe tbody tr th:only-of-type {\n",
       "        vertical-align: middle;\n",
       "    }\n",
       "\n",
       "    .dataframe tbody tr th {\n",
       "        vertical-align: top;\n",
       "    }\n",
       "\n",
       "    .dataframe thead th {\n",
       "        text-align: right;\n",
       "    }\n",
       "</style>\n",
       "<table border=\"1\" class=\"dataframe\">\n",
       "  <thead>\n",
       "    <tr style=\"text-align: right;\">\n",
       "      <th></th>\n",
       "      <th>sepal length (cm)</th>\n",
       "      <th>sepal width (cm)</th>\n",
       "    </tr>\n",
       "  </thead>\n",
       "  <tbody>\n",
       "    <tr>\n",
       "      <th>0</th>\n",
       "      <td>6.1</td>\n",
       "      <td>2.8</td>\n",
       "    </tr>\n",
       "    <tr>\n",
       "      <th>1</th>\n",
       "      <td>5.7</td>\n",
       "      <td>3.8</td>\n",
       "    </tr>\n",
       "    <tr>\n",
       "      <th>2</th>\n",
       "      <td>7.7</td>\n",
       "      <td>2.6</td>\n",
       "    </tr>\n",
       "    <tr>\n",
       "      <th>3</th>\n",
       "      <td>6.0</td>\n",
       "      <td>2.9</td>\n",
       "    </tr>\n",
       "    <tr>\n",
       "      <th>4</th>\n",
       "      <td>6.8</td>\n",
       "      <td>2.8</td>\n",
       "    </tr>\n",
       "  </tbody>\n",
       "</table>\n",
       "</div>"
      ],
      "text/plain": [
       "   sepal length (cm)  sepal width (cm)\n",
       "0                6.1               2.8\n",
       "1                5.7               3.8\n",
       "2                7.7               2.6\n",
       "3                6.0               2.9\n",
       "4                6.8               2.8"
      ]
     },
     "execution_count": 95,
     "metadata": {},
     "output_type": "execute_result"
    }
   ],
   "source": [
    "df = pd.DataFrame(x, columns=dataset.feature_names[:2])\n",
    "df.head()"
   ]
  },
  {
   "cell_type": "code",
   "execution_count": 97,
   "metadata": {
    "scrolled": true
   },
   "outputs": [
    {
     "data": {
      "image/png": "[encoded data removed]",
      "text/plain": [
       "<Figure size 432x288 with 1 Axes>"
      ]
     },
     "metadata": {},
     "output_type": "display_data"
    }
   ],
   "source": [
    "colors = [\"blue\", \"red\", \"green\"]\n",
    "for i, p in enumerate(x):\n",
    "    plt.scatter(p[0], p[1], color=colors[y[i]])\n",
    "plt.show()"
   ]
  },
  {
   "cell_type": "code",
   "execution_count": 101,
   "metadata": {},
   "outputs": [],
   "source": [
    "class kMeans:\n",
    "    def __init__(self, n_cluster=3, max_iter=100):\n",
    "        self.n_cluster = n_cluster\n",
    "        self.max_iter = max_iter\n",
    "        \n",
    "    def fit(self, x):\n",
    "        idx = np.random.permutation(len(x))[:self.n_cluster]\n",
    "        self.centroids = x[idx]\n",
    "        self.start_centroids = self.centroids.copy()\n",
    "        # Start training\n",
    "        for _ in range(self.max_iter):\n",
    "            self.assignment = {i: [] for i in range(self.n_cluster)}\n",
    "            # Step 1: Assignment\n",
    "            for point in x:\n",
    "                distance_centroids = [np.linalg.norm(point - centroid) for centroid in self.centroids]\n",
    "                nearest_centroid = np.argmin(distance_centroids, axis=0)\n",
    "                self.assignment[nearest_centroid].append([point[0], point[1]])\n",
    "            # Step 2: Update \n",
    "            for i in range(self.n_cluster):\n",
    "                if len(self.assignment[i]) > 0:\n",
    "                    self.centroids[i] = np.mean(self.assignment[i], axis=0)\n",
    "        return self.centroids, self.start_centroids \n",
    "    \n",
    "    def predict(self, x):\n",
    "        y = np.array([0 for _ in range(len(x))])\n",
    "        for i, x_p in enumerate(x):\n",
    "            distances = np.array([np.linalg.norm(centroids[j] - x_p) for j in range(self.n_cluster)])\n",
    "            cluster = np.argmin(distances)\n",
    "            y[i] = cluster\n",
    "        return y"
   ]
  },
  {
   "cell_type": "code",
   "execution_count": 102,
   "metadata": {},
   "outputs": [
    {
     "name": "stdout",
     "output_type": "stream",
     "text": [
      "[[6.82391304 3.07826087]\n",
      " [5.00392157 3.4       ]\n",
      " [5.8        2.7       ]]\n",
      "[[7.6 3. ]\n",
      " [5.1 3.5]\n",
      " [7.2 3. ]]\n",
      "[2 1 0 2 0 1 2 0 2 2 0 1 1 1 1 0 0 2 2 0 1 2 1 0 0 0 0 0 1 1 1 1 0 1 1 2 0\n",
      " 1 1 1 2 2 0 1 1 2 2 0 0 0 2 0 2 1 0 2 1 1 1 2 2 1 1 1 2 1 2 0 1 2 2 1 2 2\n",
      " 2 2 0 2 1 2 0 1 1 2 0 1 2 1 1 2 2 0 2 2 0 2 1 1 2 0 1 1 1 2 0 1 0 0 1 2 0\n",
      " 2 0 0 1 0 2 0 2 2 2 1 0 2 1 2 0 0 1 2 0 0 1 0 1 0 0 2 2 0 2 0 2 2 1 2 1 1\n",
      " 2 0]\n"
     ]
    }
   ],
   "source": [
    "kmeans = kMeans(n_cluster=3, max_iter=100)\n",
    "centroids, start_centroids = kmeans.fit(x)\n",
    "y_pred = kmeans.predict(x)\n",
    "\n",
    "print(centroids)\n",
    "print(start_centroids)\n",
    "print(y_pred)"
   ]
  },
  {
   "cell_type": "code",
   "execution_count": 103,
   "metadata": {
    "scrolled": false
   },
   "outputs": [
    {
     "data": {
      "image/png": "[encoded data removed]",
      "text/plain": [
       "<Figure size 432x288 with 1 Axes>"
      ]
     },
     "metadata": {},
     "output_type": "display_data"
    }
   ],
   "source": [
    "colors = [\"blue\", \"red\", \"green\"]\n",
    "for i, p in enumerate(x):\n",
    "    plt.scatter(p[0], p[1], color=colors[y[i]])\n",
    "plt.scatter(centroids[:,0], centroids[:,1], color=\"yellow\", s=100)\n",
    "plt.scatter(start_centroids[:,0], start_centroids[:,1], color=\"black\", s=100)\n",
    "plt.show()"
   ]
  },
  {
   "cell_type": "code",
   "execution_count": 104,
   "metadata": {},
   "outputs": [
    {
     "data": {
      "image/png": "[encoded data removed]",
      "text/plain": [
       "<Figure size 432x288 with 1 Axes>"
      ]
     },
     "metadata": {},
     "output_type": "display_data"
    }
   ],
   "source": [
    "plot(x, y, y_pred, centroids, kmeans)"
   ]
  }
 ],
 "metadata": {
  "kernelspec": {
   "display_name": "Python 3",
   "language": "python",
   "name": "python3"
  },
  "language_info": {
   "codemirror_mode": {
    "name": "ipython",
    "version": 3
   },
   "file_extension": ".py",
   "mimetype": "text/x-python",
   "name": "python",
   "nbconvert_exporter": "python",
   "pygments_lexer": "ipython3",
   "version": "3.6.5"
  }
 },
 "nbformat": 4,
 "nbformat_minor": 2
}
