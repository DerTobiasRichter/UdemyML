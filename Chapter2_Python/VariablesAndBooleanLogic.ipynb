{
 "cells": [
  {
   "cell_type": "code",
   "execution_count": 1,
   "metadata": {},
   "outputs": [
    {
     "name": "stdout",
     "output_type": "stream",
     "text": [
      "1\n",
      "<class 'int'>\n",
      "Starting Datatypes!\n",
      "1\n",
      "<class 'int'>\n",
      "1.0\n",
      "<class 'float'>\n",
      "Jan\n",
      "<class 'str'>\n",
      "True\n",
      "<class 'bool'>\n"
     ]
    }
   ],
   "source": [
    "#Variablen\n",
    "zahl = 1\n",
    "print(zahl)\n",
    "print(type(zahl))\n",
    "\n",
    "#Datentypen\n",
    "v1 = 1\n",
    "v2 = 1.0\n",
    "v3 = 'Jan'\n",
    "v4 = True\n",
    "\n",
    "#Ausgabe\n",
    "print(\"Starting Datatypes!\")\n",
    "print(v1)\n",
    "print(type(v1))\n",
    "print(v2)\n",
    "print(type(v2))\n",
    "print(v3)\n",
    "print(type(v3))\n",
    "print(v4)\n",
    "print(type(v4))"
   ]
  },
  {
   "cell_type": "code",
   "execution_count": 2,
   "metadata": {},
   "outputs": [
    {
     "name": "stdout",
     "output_type": "stream",
     "text": [
      "Gebe eine Zahl von 1-10 ein!4\n",
      "Du hast gewonnen!\n"
     ]
    }
   ],
   "source": [
    "#Logik\n",
    "\n",
    "zahl_input = int(input(\"Gebe eine Zahl von 1-10 ein!\"))\n",
    "\n",
    "#Wert auf Gleichheit überprüfen mit ==\n",
    "#Wert zuweisen =\n",
    "if zahl_input == 4:\n",
    "    print(\"Du hast gewonnen!\")\n",
    "elif zahl_input == 5 or zahl_input == 3:\n",
    "    print(\"Knapp daneben!\")\n",
    "else:\n",
    "    print(\"Du hast verloren!\")"
   ]
  },
  {
   "cell_type": "code",
   "execution_count": 3,
   "metadata": {},
   "outputs": [
    {
     "name": "stdout",
     "output_type": "stream",
     "text": [
      "Spieldurchlauf Nummer:  0\n",
      "Gebe eine Zahl von 1-10 ein!5\n",
      "Knapp daneben!\n",
      "Spieldurchlauf Nummer:  1\n",
      "Gebe eine Zahl von 1-10 ein!6\n",
      "Du hast verloren!\n",
      "Spieldurchlauf Nummer:  2\n",
      "Gebe eine Zahl von 1-10 ein!4\n",
      "Du hast gewonnen!\n"
     ]
    }
   ],
   "source": [
    "# 0, 1, 2\n",
    "#                  (START; END (Nicht Inkl.), Schrittweite)\n",
    "# range(3) <=> range(0, 3, 1)\n",
    "for run_index in range(3):\n",
    "    print(\"Spieldurchlauf Nummer: \", run_index)\n",
    "    zahl_input = int(input(\"Gebe eine Zahl von 1-10 ein!\"))\n",
    "\n",
    "    #Wert auf Gleichheit überprüfen mit ==\n",
    "    #Wert zuweisen =\n",
    "    if zahl_input == 4:\n",
    "        print(\"Du hast gewonnen!\")\n",
    "    elif zahl_input == 5 or zahl_input == 3:\n",
    "        print(\"Knapp daneben!\")\n",
    "    else:\n",
    "        print(\"Du hast verloren!\")"
   ]
  },
  {
   "cell_type": "code",
   "execution_count": 5,
   "metadata": {},
   "outputs": [
    {
     "name": "stdout",
     "output_type": "stream",
     "text": [
      "i:  0\n",
      "i:  1\n",
      "i:  2\n"
     ]
    }
   ],
   "source": [
    "for i in range(0, 3, 1):\n",
    "    print(\"i: \", i)"
   ]
  },
  {
   "cell_type": "code",
   "execution_count": 7,
   "metadata": {
    "scrolled": true
   },
   "outputs": [
    {
     "name": "stdout",
     "output_type": "stream",
     "text": [
      "i:  3\n",
      "i:  5\n",
      "i:  7\n",
      "i:  9\n"
     ]
    }
   ],
   "source": [
    "for i in range(3, 11, 2):\n",
    "    print(\"i: \", i)"
   ]
  },
  {
   "cell_type": "code",
   "execution_count": 8,
   "metadata": {},
   "outputs": [
    {
     "name": "stdout",
     "output_type": "stream",
     "text": [
      "Gebe eine Zahl von 1-10 ein!6\n",
      "Du hast verloren!\n",
      "Gebe eine Zahl von 1-10 ein!3\n",
      "Knapp daneben!\n",
      "Gebe eine Zahl von 1-10 ein!4\n",
      "Du hast gewonnen!\n",
      "Ende des Spiels.\n"
     ]
    }
   ],
   "source": [
    "gewonnen = False\n",
    "\n",
    "while(gewonnen == False):\n",
    "    zahl_input = int(input(\"Gebe eine Zahl von 1-10 ein!\"))\n",
    "    if zahl_input == 4:\n",
    "        print(\"Du hast gewonnen!\")\n",
    "        gewonnen = True\n",
    "    elif zahl_input == 5 or zahl_input == 3:\n",
    "        print(\"Knapp daneben!\")\n",
    "    else:\n",
    "        print(\"Du hast verloren!\")\n",
    "\n",
    "print(\"Ende des Spiels.\")"
   ]
  }
 ],
 "metadata": {
  "kernelspec": {
   "display_name": "Python 3",
   "language": "python",
   "name": "python3"
  },
  "language_info": {
   "codemirror_mode": {
    "name": "ipython",
    "version": 3
   },
   "file_extension": ".py",
   "mimetype": "text/x-python",
   "name": "python",
   "nbconvert_exporter": "python",
   "pygments_lexer": "ipython3",
   "version": "3.7.4"
  }
 },
 "nbformat": 4,
 "nbformat_minor": 2
}
