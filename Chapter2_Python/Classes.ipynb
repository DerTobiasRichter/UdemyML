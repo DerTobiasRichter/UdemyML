{
 "cells": [
  {
   "cell_type": "code",
   "execution_count": 9,
   "metadata": {},
   "outputs": [],
   "source": [
    "# Funktionen\n",
    "def list_max(my_list):\n",
    "    temp = 0\n",
    "    \n",
    "    for i in range(len(my_list)):\n",
    "        if i == 0:\n",
    "            temp = my_list[i]\n",
    "        else:\n",
    "            if my_list[i] > temp:\n",
    "                print(\"Last max: \", temp)\n",
    "                print(\"New max: \", my_list[i])\n",
    "                temp = my_list[i]\n",
    "                \n",
    "    return temp"
   ]
  },
  {
   "cell_type": "code",
   "execution_count": 10,
   "metadata": {},
   "outputs": [
    {
     "name": "stdout",
     "output_type": "stream",
     "text": [
      "Last max:  1\n",
      "New max:  12\n",
      "Last max:  12\n",
      "New max:  19\n"
     ]
    },
    {
     "data": {
      "text/plain": [
       "19"
      ]
     },
     "execution_count": 10,
     "metadata": {},
     "output_type": "execute_result"
    }
   ],
   "source": [
    "#################################\n",
    "        \n",
    "list_a = [1, 12, -5, -23, 19]\n",
    "\n",
    "list_max(list_a)"
   ]
  },
  {
   "cell_type": "code",
   "execution_count": null,
   "metadata": {},
   "outputs": [],
   "source": [
    "#Klasse: Bauplan\n",
    "#Objekt: Eine Instanz der Klasse XYZ"
   ]
  },
  {
   "cell_type": "code",
   "execution_count": 1,
   "metadata": {},
   "outputs": [],
   "source": [
    "# Klassen"
   ]
  },
  {
   "cell_type": "code",
   "execution_count": 4,
   "metadata": {},
   "outputs": [],
   "source": [
    "class ListStatistics:\n",
    "    def __init__(self, data_list):\n",
    "        self.data_list = data_list\n",
    "        \n",
    "    def list_max(self):\n",
    "        temp = 0\n",
    "        for i in range(len(self.data_list)):\n",
    "            if i == 0:\n",
    "                temp = self.data_list[i]\n",
    "            else:\n",
    "                if self.data_list[i] > temp:\n",
    "                    temp = self.data_list[i]\n",
    "        return temp\n",
    "    \n",
    "    def list_min(self):\n",
    "        temp = 0\n",
    "        for i in range(len(self.data_list)):\n",
    "            if i == 0:\n",
    "                temp = self.data_list[i]\n",
    "            else:\n",
    "                if self.data_list[i] < temp:\n",
    "                    temp = self.data_list[i]\n",
    "        return temp"
   ]
  },
  {
   "cell_type": "code",
   "execution_count": 8,
   "metadata": {},
   "outputs": [
    {
     "name": "stdout",
     "output_type": "stream",
     "text": [
      "Max:  19\n",
      "Min:  -23\n"
     ]
    }
   ],
   "source": [
    "list_b = [1, 12, -5, -23, 19]\n",
    "ls = ListStatistics(list_b)\n",
    "print(\"Max: \", ls.list_max())\n",
    "print(\"Min: \", ls.list_min())"
   ]
  }
 ],
 "metadata": {
  "kernelspec": {
   "display_name": "Python 3",
   "language": "python",
   "name": "python3"
  },
  "language_info": {
   "codemirror_mode": {
    "name": "ipython",
    "version": 3
   },
   "file_extension": ".py",
   "mimetype": "text/x-python",
   "name": "python",
   "nbconvert_exporter": "python",
   "pygments_lexer": "ipython3",
   "version": "3.7.4"
  }
 },
 "nbformat": 4,
 "nbformat_minor": 2
}
