{
 "cells": [
  {
   "cell_type": "code",
   "execution_count": 24,
   "metadata": {},
   "outputs": [],
   "source": [
    "my_list1 = [11, 24, -43]\n",
    "my_list2 = [\"a\", \"b\"]"
   ]
  },
  {
   "cell_type": "code",
   "execution_count": 25,
   "metadata": {},
   "outputs": [
    {
     "name": "stdout",
     "output_type": "stream",
     "text": [
      "11\n",
      "24\n",
      "-43\n",
      "a\n",
      "b\n"
     ]
    }
   ],
   "source": [
    "for value in my_list1:\n",
    "    print(value)\n",
    "    \n",
    "for value in my_list2:\n",
    "    print(value)"
   ]
  },
  {
   "cell_type": "code",
   "execution_count": 26,
   "metadata": {
    "scrolled": true
   },
   "outputs": [
    {
     "name": "stdout",
     "output_type": "stream",
     "text": [
      "At idx:  0  is the value:  11\n",
      "At idx:  1  is the value:  24\n",
      "At idx:  2  is the value:  -43\n"
     ]
    }
   ],
   "source": [
    "for idx in range(len(my_list1)):\n",
    "    print(\"At idx: \", idx, \" is the value: \", my_list1[idx])"
   ]
  },
  {
   "cell_type": "code",
   "execution_count": 27,
   "metadata": {
    "scrolled": true
   },
   "outputs": [
    {
     "name": "stdout",
     "output_type": "stream",
     "text": [
      "At idx:  0  is the value:  11\n",
      "At idx:  1  is the value:  24\n",
      "At idx:  2  is the value:  -43\n"
     ]
    }
   ],
   "source": [
    "# enumerate(ITERABLE)\n",
    "for idx, value in enumerate(my_list1):\n",
    "    print(\"At idx: \", idx, \" is the value: \", value)"
   ]
  },
  {
   "cell_type": "code",
   "execution_count": 28,
   "metadata": {},
   "outputs": [],
   "source": [
    "#for idx in range(len(my_list1)):\n",
    "#    print(my_list1[idx], my_list2[idx])"
   ]
  },
  {
   "cell_type": "code",
   "execution_count": 29,
   "metadata": {},
   "outputs": [
    {
     "name": "stdout",
     "output_type": "stream",
     "text": [
      "11 a\n",
      "24 b\n"
     ]
    }
   ],
   "source": [
    "# zip(ITERABLE, ITERABLE)\n",
    "for value1, value2 in zip(my_list1, my_list2):\n",
    "    print(value1, value2)"
   ]
  }
 ],
 "metadata": {
  "kernelspec": {
   "display_name": "Python 3",
   "language": "python",
   "name": "python3"
  },
  "language_info": {
   "codemirror_mode": {
    "name": "ipython",
    "version": 3
   },
   "file_extension": ".py",
   "mimetype": "text/x-python",
   "name": "python",
   "nbconvert_exporter": "python",
   "pygments_lexer": "ipython3",
   "version": "3.8.1"
  }
 },
 "nbformat": 4,
 "nbformat_minor": 2
}
