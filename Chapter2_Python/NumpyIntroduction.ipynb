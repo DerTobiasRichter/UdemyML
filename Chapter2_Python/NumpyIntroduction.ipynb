{
 "cells": [
  {
   "cell_type": "code",
   "execution_count": 4,
   "metadata": {},
   "outputs": [
    {
     "name": "stdout",
     "output_type": "stream",
     "text": [
      "[1. 2. 3.]\n",
      "3\n",
      "(3,)\n"
     ]
    }
   ],
   "source": [
    "import numpy as np\n",
    "\n",
    "my_array = np.array([1.0, 2.0, 3.0])\n",
    "print(my_array)\n",
    "print(len(my_array))\n",
    "print(my_array.shape)"
   ]
  },
  {
   "cell_type": "code",
   "execution_count": 7,
   "metadata": {},
   "outputs": [
    {
     "name": "stdout",
     "output_type": "stream",
     "text": [
      "(4,)\n",
      "(1, 4)\n",
      "(4, 1)\n",
      "(2, 2)\n",
      "[[1 2]\n",
      " [3 4]]\n"
     ]
    }
   ],
   "source": [
    "my_array = np.array([1, 2, 3, 4])\n",
    "print(my_array.shape)\n",
    "\n",
    "my_array = np.reshape(my_array, (1,4))\n",
    "print(my_array.shape)\n",
    "\n",
    "my_array = np.reshape(my_array, (4,1))\n",
    "print(my_array.shape)\n",
    "\n",
    "my_array = np.reshape(my_array, (2,2))\n",
    "print(my_array.shape)\n",
    "print(my_array)"
   ]
  },
  {
   "cell_type": "code",
   "execution_count": 17,
   "metadata": {},
   "outputs": [
    {
     "name": "stdout",
     "output_type": "stream",
     "text": [
      "[[0. 0. 0.]\n",
      " [0. 0. 0.]\n",
      " [0. 0. 0.]]\n",
      "[[1. 1. 1.]\n",
      " [1. 1. 1.]\n",
      " [1. 1. 1.]]\n",
      "[[0.25 0.25 0.25]\n",
      " [0.25 0.25 0.25]\n",
      " [0.25 0.25 0.25]]\n",
      "[[0.75 0.75 0.75]\n",
      " [0.75 0.75 0.75]\n",
      " [0.75 0.75 0.75]]\n"
     ]
    }
   ],
   "source": [
    "my_zero = np.zeros(shape=(3,3))\n",
    "print(my_zero)\n",
    "\n",
    "my_one = np.ones(shape=(3,3))\n",
    "print(my_one)\n",
    "\n",
    "my_array = np.full(shape=(3,3), fill_value=0.25)\n",
    "print(my_array)\n",
    "\n",
    "print(np.dot(my_one, my_array))"
   ]
  },
  {
   "cell_type": "code",
   "execution_count": 16,
   "metadata": {},
   "outputs": [
    {
     "name": "stdout",
     "output_type": "stream",
     "text": [
      "2\n",
      "0\n",
      "1\n",
      "-1\n"
     ]
    }
   ],
   "source": [
    "my_array = np.array([-1, 0, 1])\n",
    "\n",
    "print(np.argmax(my_array))\n",
    "print(np.argmin(my_array))\n",
    "print(np.max(my_array))\n",
    "print(np.min(my_array))"
   ]
  }
 ],
 "metadata": {
  "kernelspec": {
   "display_name": "Python 3",
   "language": "python",
   "name": "python3"
  },
  "language_info": {
   "codemirror_mode": {
    "name": "ipython",
    "version": 3
   },
   "file_extension": ".py",
   "mimetype": "text/x-python",
   "name": "python",
   "nbconvert_exporter": "python",
   "pygments_lexer": "ipython3",
   "version": "3.7.4"
  }
 },
 "nbformat": 4,
 "nbformat_minor": 2
}
