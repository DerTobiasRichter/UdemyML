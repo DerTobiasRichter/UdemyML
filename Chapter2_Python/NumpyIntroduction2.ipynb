{
 "cells": [
  {
   "cell_type": "code",
   "execution_count": 1,
   "metadata": {},
   "outputs": [],
   "source": [
    "import numpy as np"
   ]
  },
  {
   "cell_type": "code",
   "execution_count": 9,
   "metadata": {},
   "outputs": [
    {
     "name": "stdout",
     "output_type": "stream",
     "text": [
      "[1 2 3 4 5]\n",
      "int32\n",
      "[1 2 3 4 5]\n",
      "int8\n",
      "[1. 2. 3. 4. 5.]\n",
      "float64\n",
      "[1. 2. 3. 4. 5.]\n",
      "float32\n"
     ]
    }
   ],
   "source": [
    "x = np.array([1, 2, 3, 4, 5])\n",
    "print(x)\n",
    "print(x.dtype)\n",
    "\n",
    "x = x.astype(np.int8)\n",
    "print(x)\n",
    "print(x.dtype)\n",
    "\n",
    "x = x.astype(np.float64)\n",
    "print(x)\n",
    "print(x.dtype)\n",
    "\n",
    "x = x.astype(np.float32)\n",
    "print(x)\n",
    "print(x.dtype)"
   ]
  },
  {
   "cell_type": "code",
   "execution_count": 26,
   "metadata": {},
   "outputs": [
    {
     "name": "stdout",
     "output_type": "stream",
     "text": [
      "[0 1 2 3 4 5 6 7 8 9]\n",
      "[0.         0.13157895 0.26315789 0.39473684 0.52631579 0.65789474\n",
      " 0.78947368 0.92105263 1.05263158 1.18421053 1.31578947 1.44736842\n",
      " 1.57894737 1.71052632 1.84210526 1.97368421 2.10526316 2.23684211\n",
      " 2.36842105 2.5       ]\n",
      "(20,)\n"
     ]
    }
   ],
   "source": [
    "my_array = np.arange(10)\n",
    "print(my_array)\n",
    "\n",
    "my_array2 = np.linspace(start=0.0, stop=2.5, num=20)\n",
    "print(my_array2)\n",
    "print(my_array2.shape)"
   ]
  }
 ],
 "metadata": {
  "kernelspec": {
   "display_name": "Python 3",
   "language": "python",
   "name": "python3"
  },
  "language_info": {
   "codemirror_mode": {
    "name": "ipython",
    "version": 3
   },
   "file_extension": ".py",
   "mimetype": "text/x-python",
   "name": "python",
   "nbconvert_exporter": "python",
   "pygments_lexer": "ipython3",
   "version": "3.7.4"
  }
 },
 "nbformat": 4,
 "nbformat_minor": 2
}
