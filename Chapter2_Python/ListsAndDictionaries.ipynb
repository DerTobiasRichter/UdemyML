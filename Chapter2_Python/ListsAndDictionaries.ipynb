{
 "cells": [
  {
   "cell_type": "code",
   "execution_count": 3,
   "metadata": {},
   "outputs": [
    {
     "name": "stdout",
     "output_type": "stream",
     "text": [
      "[1, 2, 3, 1.5, True, 'Jan']\n",
      "6\n"
     ]
    }
   ],
   "source": [
    "# Liste\n",
    "my_list = [1, 2, 3, 1.5, True, \"Jan\"]\n",
    "print(my_list)\n",
    "print(len(my_list))"
   ]
  },
  {
   "cell_type": "code",
   "execution_count": 10,
   "metadata": {},
   "outputs": [
    {
     "name": "stdout",
     "output_type": "stream",
     "text": [
      "[1, 2, 3, 12]\n",
      "[1, 2, 3]\n"
     ]
    }
   ],
   "source": [
    "# Listen Funktionen\n",
    "my_list = [1, 2, 3]\n",
    "\n",
    "my_list.append(12)\n",
    "print(my_list)\n",
    "\n",
    "my_list.pop()\n",
    "print(my_list)"
   ]
  },
  {
   "cell_type": "code",
   "execution_count": 16,
   "metadata": {},
   "outputs": [
    {
     "name": "stdout",
     "output_type": "stream",
     "text": [
      "12\n",
      "32\n",
      "30\n"
     ]
    }
   ],
   "source": [
    "#          0    1   2\n",
    "my_list = [12, 32, 30]\n",
    "\n",
    "print(my_list[0])\n",
    "print(my_list[1])\n",
    "print(my_list[2])"
   ]
  },
  {
   "cell_type": "code",
   "execution_count": 22,
   "metadata": {
    "scrolled": true
   },
   "outputs": [
    {
     "name": "stdout",
     "output_type": "stream",
     "text": [
      "12\n",
      "32\n",
      "30\n"
     ]
    }
   ],
   "source": [
    "for val in my_list:\n",
    "    print(val)"
   ]
  },
  {
   "cell_type": "code",
   "execution_count": 24,
   "metadata": {
    "scrolled": true
   },
   "outputs": [
    {
     "name": "stdout",
     "output_type": "stream",
     "text": [
      "12\n",
      "32\n",
      "30\n"
     ]
    }
   ],
   "source": [
    "for i in range(len(my_list)):\n",
    "    print(my_list[i])"
   ]
  },
  {
   "cell_type": "code",
   "execution_count": 27,
   "metadata": {},
   "outputs": [
    {
     "name": "stdout",
     "output_type": "stream",
     "text": [
      "{'Peter': [34, 'Fußball', 'Berlin'], 'Dennis': [31, 'Handball', 'Berlin']}\n",
      "2\n"
     ]
    }
   ],
   "source": [
    "# Dictionaries\n",
    "\n",
    "# key: value\n",
    "\n",
    "my_dict = {\"Peter\": [34, \"Fußball\", \"Berlin\"],\n",
    "          \"Dennis\": [31, \"Handball\", \"Berlin\"]}\n",
    "\n",
    "print(my_dict)\n",
    "print(len(my_dict))"
   ]
  },
  {
   "cell_type": "code",
   "execution_count": 31,
   "metadata": {
    "scrolled": true
   },
   "outputs": [
    {
     "name": "stdout",
     "output_type": "stream",
     "text": [
      "{'Peter': [34, 'Fußball', 'Berlin'], 'Dennis': [31, 'Handball', 'Berlin'], 1: 12}\n",
      "3\n"
     ]
    }
   ],
   "source": [
    "my_dict = {\"Peter\": [34, \"Fußball\", \"Berlin\"],\n",
    "          \"Dennis\": [31, \"Handball\", \"Berlin\"],\n",
    "          1: 12}\n",
    "\n",
    "print(my_dict)\n",
    "print(len(my_dict))"
   ]
  },
  {
   "cell_type": "code",
   "execution_count": 34,
   "metadata": {
    "scrolled": true
   },
   "outputs": [
    {
     "name": "stdout",
     "output_type": "stream",
     "text": [
      "{'Peter': [34, 'Fußball', 'Berlin'], 'Dennis': [31, 'Handball', 'Berlin']}\n",
      "{'Peter': [34, 'Fußball', 'Berlin']}\n",
      "{'Peter': [34, 'Fußball', 'Berlin'], 'Dennis': [31, 'Handball', 'Berlin']}\n"
     ]
    }
   ],
   "source": [
    "my_dict = {\"Peter\": [34, \"Fußball\", \"Berlin\"],\n",
    "          \"Dennis\": [31, \"Handball\", \"Berlin\"],\n",
    "          1: 12}\n",
    "\n",
    "my_dict.pop(1)\n",
    "print(my_dict)\n",
    "\n",
    "my_dict.pop(\"Dennis\")\n",
    "print(my_dict)\n",
    "\n",
    "my_dict[\"Dennis\"] = [31, \"Handball\", \"Berlin\"]\n",
    "print(my_dict)"
   ]
  },
  {
   "cell_type": "code",
   "execution_count": 37,
   "metadata": {},
   "outputs": [
    {
     "name": "stdout",
     "output_type": "stream",
     "text": [
      "Peter [34, 'Fußball', 'Berlin']\n",
      "Dennis [31, 'Handball', 'Berlin']\n"
     ]
    }
   ],
   "source": [
    "for key in my_dict:\n",
    "    print(key, my_dict[key])"
   ]
  },
  {
   "cell_type": "code",
   "execution_count": 38,
   "metadata": {
    "scrolled": true
   },
   "outputs": [
    {
     "name": "stdout",
     "output_type": "stream",
     "text": [
      "Peter [34, 'Fußball', 'Berlin']\n",
      "Dennis [31, 'Handball', 'Berlin']\n"
     ]
    }
   ],
   "source": [
    "for key, val in my_dict.items():\n",
    "    print(key, val)"
   ]
  },
  {
   "cell_type": "code",
   "execution_count": 39,
   "metadata": {},
   "outputs": [
    {
     "name": "stdout",
     "output_type": "stream",
     "text": [
      "Peter\n",
      "Dennis\n"
     ]
    }
   ],
   "source": [
    "for key in my_dict.keys():\n",
    "    print(key)"
   ]
  },
  {
   "cell_type": "code",
   "execution_count": 40,
   "metadata": {},
   "outputs": [
    {
     "name": "stdout",
     "output_type": "stream",
     "text": [
      "[34, 'Fußball', 'Berlin']\n",
      "[31, 'Handball', 'Berlin']\n"
     ]
    }
   ],
   "source": [
    "for val in my_dict.values():\n",
    "    print(val)"
   ]
  }
 ],
 "metadata": {
  "kernelspec": {
   "display_name": "Python 3",
   "language": "python",
   "name": "python3"
  },
  "language_info": {
   "codemirror_mode": {
    "name": "ipython",
    "version": 3
   },
   "file_extension": ".py",
   "mimetype": "text/x-python",
   "name": "python",
   "nbconvert_exporter": "python",
   "pygments_lexer": "ipython3",
   "version": "3.7.4"
  }
 },
 "nbformat": 4,
 "nbformat_minor": 2
}
