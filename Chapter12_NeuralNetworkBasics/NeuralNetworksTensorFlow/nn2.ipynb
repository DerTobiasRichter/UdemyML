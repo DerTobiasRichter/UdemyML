{
 "cells": [
  {
   "cell_type": "code",
   "execution_count": 38,
   "metadata": {},
   "outputs": [],
   "source": [
    "from keras.models import *\n",
    "from keras.layers.core import *\n",
    "from keras.optimizers import *\n",
    "import numpy as np"
   ]
  },
  {
   "cell_type": "code",
   "execution_count": 41,
   "metadata": {},
   "outputs": [
    {
     "name": "stdout",
     "output_type": "stream",
     "text": [
      "(1797,)\n",
      "(1797, 10)\n"
     ]
    }
   ],
   "source": [
    "from sklearn.datasets import load_digits\n",
    "from keras.utils.np_utils import to_categorical\n",
    "from sklearn.model_selection import train_test_split\n",
    "\n",
    "dataset = load_digits()\n",
    "x = dataset.data\n",
    "y = dataset.target\n",
    "\n",
    "print(y.shape)\n",
    "y = to_categorical(y, num_classes=10)\n",
    "print(y.shape)\n",
    "\n",
    "x_train, x_test, y_train, y_test = train_test_split(x, y)"
   ]
  },
  {
   "cell_type": "code",
   "execution_count": 55,
   "metadata": {},
   "outputs": [],
   "source": [
    "model = Sequential() # 64 Input Neuronen\n",
    "model.add(Dense(512, input_dim=64)) # 256 im HL1\n",
    "model.add(Activation(\"relu\"))\n",
    "model.add(Dense(256)) \n",
    "model.add(Activation(\"relu\"))\n",
    "model.add(Dense(10)) # Output Layer\n",
    "model.add(Activation(\"softmax\"))"
   ]
  },
  {
   "cell_type": "code",
   "execution_count": 56,
   "metadata": {},
   "outputs": [
    {
     "name": "stderr",
     "output_type": "stream",
     "text": [
      "C:\\ProgramData\\Anaconda3\\lib\\site-packages\\ipykernel_launcher.py:3: UserWarning: The `nb_epoch` argument in `fit` has been renamed `epochs`.\n",
      "  This is separate from the ipykernel package so we can avoid doing imports until\n"
     ]
    },
    {
     "name": "stdout",
     "output_type": "stream",
     "text": [
      "Train on 1347 samples, validate on 450 samples\n",
      "Epoch 1/15\n",
      "1347/1347 [==============================] - 0s 155us/step - loss: 1.9591 - acc: 0.4224 - val_loss: 0.9837 - val_acc: 0.7089\n",
      "Epoch 2/15\n",
      "1347/1347 [==============================] - 0s 41us/step - loss: 0.7626 - acc: 0.7914 - val_loss: 0.6566 - val_acc: 0.7889\n",
      "Epoch 3/15\n",
      "1347/1347 [==============================] - 0s 41us/step - loss: 0.5076 - acc: 0.8671 - val_loss: 0.4695 - val_acc: 0.8667\n",
      "Epoch 4/15\n",
      "1347/1347 [==============================] - 0s 41us/step - loss: 0.3922 - acc: 0.8983 - val_loss: 0.3520 - val_acc: 0.9044\n",
      "Epoch 5/15\n",
      "1347/1347 [==============================] - 0s 41us/step - loss: 0.3185 - acc: 0.9228 - val_loss: 0.3097 - val_acc: 0.9200\n",
      "Epoch 6/15\n",
      "1347/1347 [==============================] - 0s 42us/step - loss: 0.2771 - acc: 0.9287 - val_loss: 0.3261 - val_acc: 0.9333\n",
      "Epoch 7/15\n",
      "1347/1347 [==============================] - 0s 41us/step - loss: 0.2469 - acc: 0.9421 - val_loss: 0.2353 - val_acc: 0.9533\n",
      "Epoch 8/15\n",
      "1347/1347 [==============================] - 0s 43us/step - loss: 0.2159 - acc: 0.9525 - val_loss: 0.2468 - val_acc: 0.9533\n",
      "Epoch 9/15\n",
      "1347/1347 [==============================] - 0s 41us/step - loss: 0.2002 - acc: 0.9607 - val_loss: 0.2621 - val_acc: 0.9400\n",
      "Epoch 10/15\n",
      "1347/1347 [==============================] - 0s 41us/step - loss: 0.1838 - acc: 0.9644 - val_loss: 0.2331 - val_acc: 0.9422\n",
      "Epoch 11/15\n",
      "1347/1347 [==============================] - 0s 41us/step - loss: 0.1687 - acc: 0.9681 - val_loss: 0.1861 - val_acc: 0.9622\n",
      "Epoch 12/15\n",
      "1347/1347 [==============================] - 0s 43us/step - loss: 0.1570 - acc: 0.9696 - val_loss: 0.1775 - val_acc: 0.9578\n",
      "Epoch 13/15\n",
      "1347/1347 [==============================] - 0s 41us/step - loss: 0.1484 - acc: 0.9733 - val_loss: 0.1792 - val_acc: 0.9622\n",
      "Epoch 14/15\n",
      "1347/1347 [==============================] - 0s 43us/step - loss: 0.1393 - acc: 0.9718 - val_loss: 0.1618 - val_acc: 0.9644\n",
      "Epoch 15/15\n",
      "1347/1347 [==============================] - 0s 42us/step - loss: 0.1306 - acc: 0.9740 - val_loss: 0.1577 - val_acc: 0.9667\n"
     ]
    },
    {
     "data": {
      "text/plain": [
       "<keras.callbacks.History at 0x15f9d0feac8>"
      ]
     },
     "execution_count": 56,
     "metadata": {},
     "output_type": "execute_result"
    }
   ],
   "source": [
    "sgd = SGD(lr=0.001)\n",
    "model.compile(loss=\"categorical_crossentropy\", optimizer=sgd, metrics=[\"accuracy\"])\n",
    "model.fit(x_train, y_train, nb_epoch=15, validation_data=[x_test, y_test])"
   ]
  }
 ],
 "metadata": {
  "kernelspec": {
   "display_name": "Python 3",
   "language": "python",
   "name": "python3"
  },
  "language_info": {
   "codemirror_mode": {
    "name": "ipython",
    "version": 3
   },
   "file_extension": ".py",
   "mimetype": "text/x-python",
   "name": "python",
   "nbconvert_exporter": "python",
   "pygments_lexer": "ipython3",
   "version": "3.6.5"
  }
 },
 "nbformat": 4,
 "nbformat_minor": 2
}
