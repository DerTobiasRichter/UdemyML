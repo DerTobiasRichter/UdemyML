{
 "cells": [
  {
   "cell_type": "code",
   "execution_count": 1,
   "metadata": {},
   "outputs": [],
   "source": [
    "import numpy as np\n",
    "\n",
    "from tensorflow.keras.models import *\n",
    "from tensorflow.keras.layers import *\n",
    "from tensorflow.keras.optimizers import *\n",
    "from tensorflow.keras.losses import *\n",
    "from tensorflow.keras.utils import *\n",
    "\n",
    "from sklearn.datasets import load_digits\n",
    "from sklearn.model_selection import train_test_split"
   ]
  },
  {
   "cell_type": "code",
   "execution_count": 7,
   "metadata": {},
   "outputs": [],
   "source": [
    "dataset = load_digits()\n",
    "\n",
    "x = dataset.data\n",
    "y = dataset.target\n",
    "y = to_categorical(y, num_classes=10)\n",
    "\n",
    "x_train, x_test, y_train, y_test = train_test_split(x, y)"
   ]
  },
  {
   "cell_type": "code",
   "execution_count": 8,
   "metadata": {},
   "outputs": [],
   "source": [
    "model = Sequential()\n",
    "model.add(Dense(512, input_dim=x.shape[1])) # Input Layer (64 Neurons) to first Hidden Layer (512 Neurons)\n",
    "model.add(Activation(\"relu\")) # max(0, value)\n",
    "model.add(Dense(256))\n",
    "model.add(Activation(\"relu\"))\n",
    "model.add(Dense(y.shape[1])) # Last Hidden Layer (256 Neurons) to Output Layer (10 Neurons)\n",
    "model.add(Activation(\"softmax\"))"
   ]
  },
  {
   "cell_type": "code",
   "execution_count": 9,
   "metadata": {},
   "outputs": [
    {
     "name": "stdout",
     "output_type": "stream",
     "text": [
      "Train on 1347 samples, validate on 450 samples\n",
      "Epoch 1/15\n",
      "1347/1347 [==============================] - 1s 373us/sample - loss: 2.0171 - accuracy: 0.3771 - val_loss: 1.0926 - val_accuracy: 0.6689\n",
      "Epoch 2/15\n",
      "1347/1347 [==============================] - 0s 47us/sample - loss: 0.8480 - accuracy: 0.7676 - val_loss: 0.6350 - val_accuracy: 0.8311\n",
      "Epoch 3/15\n",
      "1347/1347 [==============================] - 0s 48us/sample - loss: 0.5727 - accuracy: 0.8463 - val_loss: 0.4529 - val_accuracy: 0.9000\n",
      "Epoch 4/15\n",
      "1347/1347 [==============================] - 0s 49us/sample - loss: 0.4429 - accuracy: 0.8834 - val_loss: 0.3615 - val_accuracy: 0.9222\n",
      "Epoch 5/15\n",
      "1347/1347 [==============================] - 0s 45us/sample - loss: 0.3655 - accuracy: 0.9013 - val_loss: 0.3123 - val_accuracy: 0.9244\n",
      "Epoch 6/15\n",
      "1347/1347 [==============================] - 0s 49us/sample - loss: 0.3139 - accuracy: 0.9220 - val_loss: 0.2786 - val_accuracy: 0.9289\n",
      "Epoch 7/15\n",
      "1347/1347 [==============================] - 0s 50us/sample - loss: 0.2761 - accuracy: 0.9339 - val_loss: 0.2383 - val_accuracy: 0.9422\n",
      "Epoch 8/15\n",
      "1347/1347 [==============================] - 0s 49us/sample - loss: 0.2468 - accuracy: 0.9458 - val_loss: 0.2323 - val_accuracy: 0.9467\n",
      "Epoch 9/15\n",
      "1347/1347 [==============================] - 0s 47us/sample - loss: 0.2241 - accuracy: 0.9510 - val_loss: 0.2002 - val_accuracy: 0.9622\n",
      "Epoch 10/15\n",
      "1347/1347 [==============================] - 0s 53us/sample - loss: 0.2045 - accuracy: 0.9577 - val_loss: 0.1824 - val_accuracy: 0.9578\n",
      "Epoch 11/15\n",
      "1347/1347 [==============================] - 0s 47us/sample - loss: 0.1893 - accuracy: 0.9614 - val_loss: 0.1725 - val_accuracy: 0.9667\n",
      "Epoch 12/15\n",
      "1347/1347 [==============================] - 0s 47us/sample - loss: 0.1765 - accuracy: 0.9666 - val_loss: 0.1637 - val_accuracy: 0.9711\n",
      "Epoch 13/15\n",
      "1347/1347 [==============================] - 0s 45us/sample - loss: 0.1648 - accuracy: 0.9688 - val_loss: 0.1548 - val_accuracy: 0.9778\n",
      "Epoch 14/15\n",
      "1347/1347 [==============================] - 0s 49us/sample - loss: 0.1552 - accuracy: 0.9718 - val_loss: 0.1482 - val_accuracy: 0.9711\n",
      "Epoch 15/15\n",
      "1347/1347 [==============================] - 0s 49us/sample - loss: 0.1472 - accuracy: 0.9718 - val_loss: 0.1429 - val_accuracy: 0.9756\n"
     ]
    },
    {
     "data": {
      "text/plain": [
       "<tensorflow.python.keras.callbacks.History at 0x1bf97a58f08>"
      ]
     },
     "execution_count": 9,
     "metadata": {},
     "output_type": "execute_result"
    }
   ],
   "source": [
    "sgd = SGD(lr=0.001)\n",
    "model.compile(loss=\"categorical_crossentropy\", optimizer=sgd, metrics=[\"accuracy\"])\n",
    "model.fit(x_train, y_train, epochs=15, validation_data=[x_test, y_test])"
   ]
  }
 ],
 "metadata": {
  "kernelspec": {
   "display_name": "Python 3",
   "language": "python",
   "name": "python3"
  },
  "language_info": {
   "codemirror_mode": {
    "name": "ipython",
    "version": 3
   },
   "file_extension": ".py",
   "mimetype": "text/x-python",
   "name": "python",
   "nbconvert_exporter": "python",
   "pygments_lexer": "ipython3",
   "version": "3.7.4"
  }
 },
 "nbformat": 4,
 "nbformat_minor": 2
}
