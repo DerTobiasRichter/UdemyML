{
 "cells": [
  {
   "cell_type": "code",
   "execution_count": 1,
   "metadata": {},
   "outputs": [],
   "source": [
    "import pandas as pd\n",
    "from sklearn.datasets import load_boston\n",
    "import numpy as np\n",
    "import matplotlib.pyplot as plt\n",
    "import numpy.linalg"
   ]
  },
  {
   "cell_type": "code",
   "execution_count": 2,
   "metadata": {},
   "outputs": [],
   "source": [
    "dataset = load_boston()\n",
    "df = pd.DataFrame(dataset.data, columns=dataset.feature_names)"
   ]
  },
  {
   "cell_type": "code",
   "execution_count": 3,
   "metadata": {},
   "outputs": [],
   "source": [
    "from sklearn.model_selection import train_test_split\n",
    "\n",
    "x = dataset.data[:, :]\n",
    "y = dataset.target\n",
    "\n",
    "x_train, x_test, y_train, y_test = train_test_split(x, y, random_state=42, test_size=0.3)"
   ]
  },
  {
   "cell_type": "code",
   "execution_count": 55,
   "metadata": {},
   "outputs": [],
   "source": [
    "from sklearn.utils import shuffle\n",
    "from sklearn.linear_model import LinearRegression\n",
    "from sklearn.neighbors import KNeighborsRegressor\n",
    "\n",
    "models = []\n",
    "n_models = 100\n",
    "n_train_samples = 200\n",
    "\n",
    "for i in range(n_models):\n",
    "    xx, yy = shuffle(x_train, y_train)\n",
    "    regr = KNeighborsRegressor(n_neighbors=3)\n",
    "    regr.fit(xx[:n_train_samples], yy[:n_train_samples])\n",
    "    models.append(regr)\n",
    "    \n",
    "y_pred_mean = np.mean([model.predict(x_test) for model in models], axis=0)"
   ]
  },
  {
   "cell_type": "code",
   "execution_count": 56,
   "metadata": {},
   "outputs": [],
   "source": [
    "from sklearn.metrics import mean_squared_error\n",
    "\n",
    "bias = 0.0\n",
    "variance = 0.0\n",
    "mse_mean = 0.0\n",
    "\n",
    "for i in range(n_models):\n",
    "    y_pred = models[i].predict(x_test)\n",
    "    variance += np.sum(np.square(y_pred_mean - y_pred))\n",
    "    mse_mean += mean_squared_error(y_test, y_pred)\n",
    "    \n",
    "bias = np.mean(np.square(y_pred_mean - y_test), axis=0)   \n",
    "variance /= (n_models * y_test.shape[0])\n",
    "mse_mean /= n_models"
   ]
  },
  {
   "cell_type": "markdown",
   "metadata": {},
   "source": [
    "$MSE = Bias + Variance + \\epsilon$"
   ]
  },
  {
   "cell_type": "code",
   "execution_count": 57,
   "metadata": {
    "scrolled": true
   },
   "outputs": [
    {
     "name": "stdout",
     "output_type": "stream",
     "text": [
      "Bias:  31.537925418128655\n",
      "Variance:  7.662377944444443\n",
      "MSE:  39.200303362573095\n",
      "Stochastic Error:  -2.6645352591003757e-15\n"
     ]
    }
   ],
   "source": [
    "print(\"Bias: \", bias)\n",
    "print(\"Variance: \", variance)\n",
    "print(\"MSE: \", mse_mean)\n",
    "print(\"Stochastic Error: \", mse_mean - bias - variance)"
   ]
  },
  {
   "cell_type": "code",
   "execution_count": 58,
   "metadata": {},
   "outputs": [
    {
     "name": "stdout",
     "output_type": "stream",
     "text": [
      "0.8045326875771024\n",
      "0.19546731242289772\n"
     ]
    }
   ],
   "source": [
    "print(bias/mse_mean)\n",
    "print(variance/mse_mean)"
   ]
  }
 ],
 "metadata": {
  "kernelspec": {
   "display_name": "Python 3",
   "language": "python",
   "name": "python3"
  },
  "language_info": {
   "codemirror_mode": {
    "name": "ipython",
    "version": 3
   },
   "file_extension": ".py",
   "mimetype": "text/x-python",
   "name": "python",
   "nbconvert_exporter": "python",
   "pygments_lexer": "ipython3",
   "version": "3.6.5"
  }
 },
 "nbformat": 4,
 "nbformat_minor": 2
}
