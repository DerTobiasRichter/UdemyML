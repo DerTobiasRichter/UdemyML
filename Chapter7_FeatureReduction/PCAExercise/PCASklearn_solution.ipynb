{
 "cells": [
  {
   "cell_type": "code",
   "execution_count": 1,
   "metadata": {},
   "outputs": [],
   "source": [
    "# Load Dataset\n",
    "from sklearn.datasets import load_breast_cancer\n",
    "import pandas as pd\n",
    "import numpy as np\n",
    "import matplotlib.pyplot as plt\n",
    "\n",
    "dataset = load_breast_cancer()\n",
    "df = pd.DataFrame(dataset.data, columns=dataset.feature_names)"
   ]
  },
  {
   "cell_type": "code",
   "execution_count": 2,
   "metadata": {},
   "outputs": [
    {
     "data": {
      "text/plain": [
       "array(['malignant', 'benign'], dtype='<U9')"
      ]
     },
     "execution_count": 2,
     "metadata": {},
     "output_type": "execute_result"
    }
   ],
   "source": [
    "dataset.target_names"
   ]
  },
  {
   "cell_type": "code",
   "execution_count": 3,
   "metadata": {},
   "outputs": [
    {
     "data": {
      "text/html": [
       "<div>\n",
       "<style scoped>\n",
       "    .dataframe tbody tr th:only-of-type {\n",
       "        vertical-align: middle;\n",
       "    }\n",
       "\n",
       "    .dataframe tbody tr th {\n",
       "        vertical-align: top;\n",
       "    }\n",
       "\n",
       "    .dataframe thead th {\n",
       "        text-align: right;\n",
       "    }\n",
       "</style>\n",
       "<table border=\"1\" class=\"dataframe\">\n",
       "  <thead>\n",
       "    <tr style=\"text-align: right;\">\n",
       "      <th></th>\n",
       "      <th>mean radius</th>\n",
       "      <th>mean texture</th>\n",
       "      <th>mean perimeter</th>\n",
       "      <th>mean area</th>\n",
       "      <th>mean smoothness</th>\n",
       "      <th>mean compactness</th>\n",
       "      <th>mean concavity</th>\n",
       "      <th>mean concave points</th>\n",
       "      <th>mean symmetry</th>\n",
       "      <th>mean fractal dimension</th>\n",
       "      <th>...</th>\n",
       "      <th>worst radius</th>\n",
       "      <th>worst texture</th>\n",
       "      <th>worst perimeter</th>\n",
       "      <th>worst area</th>\n",
       "      <th>worst smoothness</th>\n",
       "      <th>worst compactness</th>\n",
       "      <th>worst concavity</th>\n",
       "      <th>worst concave points</th>\n",
       "      <th>worst symmetry</th>\n",
       "      <th>worst fractal dimension</th>\n",
       "    </tr>\n",
       "  </thead>\n",
       "  <tbody>\n",
       "    <tr>\n",
       "      <th>0</th>\n",
       "      <td>17.99</td>\n",
       "      <td>10.38</td>\n",
       "      <td>122.80</td>\n",
       "      <td>1001.0</td>\n",
       "      <td>0.11840</td>\n",
       "      <td>0.27760</td>\n",
       "      <td>0.3001</td>\n",
       "      <td>0.14710</td>\n",
       "      <td>0.2419</td>\n",
       "      <td>0.07871</td>\n",
       "      <td>...</td>\n",
       "      <td>25.38</td>\n",
       "      <td>17.33</td>\n",
       "      <td>184.60</td>\n",
       "      <td>2019.0</td>\n",
       "      <td>0.1622</td>\n",
       "      <td>0.6656</td>\n",
       "      <td>0.7119</td>\n",
       "      <td>0.2654</td>\n",
       "      <td>0.4601</td>\n",
       "      <td>0.11890</td>\n",
       "    </tr>\n",
       "    <tr>\n",
       "      <th>1</th>\n",
       "      <td>20.57</td>\n",
       "      <td>17.77</td>\n",
       "      <td>132.90</td>\n",
       "      <td>1326.0</td>\n",
       "      <td>0.08474</td>\n",
       "      <td>0.07864</td>\n",
       "      <td>0.0869</td>\n",
       "      <td>0.07017</td>\n",
       "      <td>0.1812</td>\n",
       "      <td>0.05667</td>\n",
       "      <td>...</td>\n",
       "      <td>24.99</td>\n",
       "      <td>23.41</td>\n",
       "      <td>158.80</td>\n",
       "      <td>1956.0</td>\n",
       "      <td>0.1238</td>\n",
       "      <td>0.1866</td>\n",
       "      <td>0.2416</td>\n",
       "      <td>0.1860</td>\n",
       "      <td>0.2750</td>\n",
       "      <td>0.08902</td>\n",
       "    </tr>\n",
       "    <tr>\n",
       "      <th>2</th>\n",
       "      <td>19.69</td>\n",
       "      <td>21.25</td>\n",
       "      <td>130.00</td>\n",
       "      <td>1203.0</td>\n",
       "      <td>0.10960</td>\n",
       "      <td>0.15990</td>\n",
       "      <td>0.1974</td>\n",
       "      <td>0.12790</td>\n",
       "      <td>0.2069</td>\n",
       "      <td>0.05999</td>\n",
       "      <td>...</td>\n",
       "      <td>23.57</td>\n",
       "      <td>25.53</td>\n",
       "      <td>152.50</td>\n",
       "      <td>1709.0</td>\n",
       "      <td>0.1444</td>\n",
       "      <td>0.4245</td>\n",
       "      <td>0.4504</td>\n",
       "      <td>0.2430</td>\n",
       "      <td>0.3613</td>\n",
       "      <td>0.08758</td>\n",
       "    </tr>\n",
       "    <tr>\n",
       "      <th>3</th>\n",
       "      <td>11.42</td>\n",
       "      <td>20.38</td>\n",
       "      <td>77.58</td>\n",
       "      <td>386.1</td>\n",
       "      <td>0.14250</td>\n",
       "      <td>0.28390</td>\n",
       "      <td>0.2414</td>\n",
       "      <td>0.10520</td>\n",
       "      <td>0.2597</td>\n",
       "      <td>0.09744</td>\n",
       "      <td>...</td>\n",
       "      <td>14.91</td>\n",
       "      <td>26.50</td>\n",
       "      <td>98.87</td>\n",
       "      <td>567.7</td>\n",
       "      <td>0.2098</td>\n",
       "      <td>0.8663</td>\n",
       "      <td>0.6869</td>\n",
       "      <td>0.2575</td>\n",
       "      <td>0.6638</td>\n",
       "      <td>0.17300</td>\n",
       "    </tr>\n",
       "    <tr>\n",
       "      <th>4</th>\n",
       "      <td>20.29</td>\n",
       "      <td>14.34</td>\n",
       "      <td>135.10</td>\n",
       "      <td>1297.0</td>\n",
       "      <td>0.10030</td>\n",
       "      <td>0.13280</td>\n",
       "      <td>0.1980</td>\n",
       "      <td>0.10430</td>\n",
       "      <td>0.1809</td>\n",
       "      <td>0.05883</td>\n",
       "      <td>...</td>\n",
       "      <td>22.54</td>\n",
       "      <td>16.67</td>\n",
       "      <td>152.20</td>\n",
       "      <td>1575.0</td>\n",
       "      <td>0.1374</td>\n",
       "      <td>0.2050</td>\n",
       "      <td>0.4000</td>\n",
       "      <td>0.1625</td>\n",
       "      <td>0.2364</td>\n",
       "      <td>0.07678</td>\n",
       "    </tr>\n",
       "  </tbody>\n",
       "</table>\n",
       "<p>5 rows × 30 columns</p>\n",
       "</div>"
      ],
      "text/plain": [
       "   mean radius  mean texture  mean perimeter  mean area  mean smoothness  \\\n",
       "0        17.99         10.38          122.80     1001.0          0.11840   \n",
       "1        20.57         17.77          132.90     1326.0          0.08474   \n",
       "2        19.69         21.25          130.00     1203.0          0.10960   \n",
       "3        11.42         20.38           77.58      386.1          0.14250   \n",
       "4        20.29         14.34          135.10     1297.0          0.10030   \n",
       "\n",
       "   mean compactness  mean concavity  mean concave points  mean symmetry  \\\n",
       "0           0.27760          0.3001              0.14710         0.2419   \n",
       "1           0.07864          0.0869              0.07017         0.1812   \n",
       "2           0.15990          0.1974              0.12790         0.2069   \n",
       "3           0.28390          0.2414              0.10520         0.2597   \n",
       "4           0.13280          0.1980              0.10430         0.1809   \n",
       "\n",
       "   mean fractal dimension           ...             worst radius  \\\n",
       "0                 0.07871           ...                    25.38   \n",
       "1                 0.05667           ...                    24.99   \n",
       "2                 0.05999           ...                    23.57   \n",
       "3                 0.09744           ...                    14.91   \n",
       "4                 0.05883           ...                    22.54   \n",
       "\n",
       "   worst texture  worst perimeter  worst area  worst smoothness  \\\n",
       "0          17.33           184.60      2019.0            0.1622   \n",
       "1          23.41           158.80      1956.0            0.1238   \n",
       "2          25.53           152.50      1709.0            0.1444   \n",
       "3          26.50            98.87       567.7            0.2098   \n",
       "4          16.67           152.20      1575.0            0.1374   \n",
       "\n",
       "   worst compactness  worst concavity  worst concave points  worst symmetry  \\\n",
       "0             0.6656           0.7119                0.2654          0.4601   \n",
       "1             0.1866           0.2416                0.1860          0.2750   \n",
       "2             0.4245           0.4504                0.2430          0.3613   \n",
       "3             0.8663           0.6869                0.2575          0.6638   \n",
       "4             0.2050           0.4000                0.1625          0.2364   \n",
       "\n",
       "   worst fractal dimension  \n",
       "0                  0.11890  \n",
       "1                  0.08902  \n",
       "2                  0.08758  \n",
       "3                  0.17300  \n",
       "4                  0.07678  \n",
       "\n",
       "[5 rows x 30 columns]"
      ]
     },
     "execution_count": 3,
     "metadata": {},
     "output_type": "execute_result"
    }
   ],
   "source": [
    "df.head()"
   ]
  },
  {
   "cell_type": "code",
   "execution_count": 4,
   "metadata": {},
   "outputs": [],
   "source": [
    "x = dataset.data\n",
    "y = dataset.target"
   ]
  },
  {
   "cell_type": "code",
   "execution_count": 25,
   "metadata": {
    "scrolled": true
   },
   "outputs": [
    {
     "name": "stdout",
     "output_type": "stream",
     "text": [
      "Mean:\n",
      " [1.41272917e+01 1.92896485e+01 9.19690334e+01 6.54889104e+02\n",
      " 9.63602812e-02 1.04340984e-01 8.87993158e-02 4.89191459e-02\n",
      " 1.81161863e-01 6.27976098e-02 4.05172056e-01 1.21685343e+00\n",
      " 2.86605923e+00 4.03370791e+01 7.04097891e-03 2.54781388e-02\n",
      " 3.18937163e-02 1.17961371e-02 2.05422988e-02 3.79490387e-03\n",
      " 1.62691898e+01 2.56772232e+01 1.07261213e+02 8.80583128e+02\n",
      " 1.32368594e-01 2.54265044e-01 2.72188483e-01 1.14606223e-01\n",
      " 2.90075571e-01 8.39458172e-02]\n",
      "Var:\n",
      " [1.23970943e+01 1.84663974e+01 5.89402799e+02 1.23625903e+05\n",
      " 1.97452073e-04 2.78428549e-03 6.34407875e-03 1.50301462e-03\n",
      " 7.50222008e-04 4.97611152e-05 7.67671984e-02 3.03781123e-01\n",
      " 4.08071149e+00 2.06579462e+03 8.99927022e-06 3.20139261e-04\n",
      " 9.09596835e-04 3.80055080e-05 6.82128053e-05 6.98938631e-06\n",
      " 2.33191693e+01 3.77100918e+01 1.12714643e+03 3.23597671e+05\n",
      " 5.20403629e-04 2.47112650e-02 4.34475982e-02 4.31314711e-03\n",
      " 3.82085668e-03 3.25636075e-04]\n",
      "Samples seen:  569\n"
     ]
    }
   ],
   "source": [
    "# Whiten the data\n",
    "from sklearn.preprocessing import StandardScaler\n",
    "\n",
    "scaler = StandardScaler()\n",
    "scaler.fit(x)\n",
    "x = scaler.transform(x)\n",
    "\n",
    "print(\"Mean:\\n\", scaler.mean_)\n",
    "print(\"Var:\\n\", scaler.var_)\n",
    "print(\"Samples seen: \", scaler.n_samples_seen_)"
   ]
  },
  {
   "cell_type": "code",
   "execution_count": 6,
   "metadata": {
    "scrolled": false
   },
   "outputs": [
    {
     "name": "stdout",
     "output_type": "stream",
     "text": [
      "Example from Dataset after Whitening:\n",
      "[1.799e+01 1.038e+01 1.228e+02 1.001e+03 1.184e-01 2.776e-01 3.001e-01\n",
      " 1.471e-01 2.419e-01 7.871e-02 1.095e+00 9.053e-01 8.589e+00 1.534e+02\n",
      " 6.399e-03 4.904e-02 5.373e-02 1.587e-02 3.003e-02 6.193e-03 2.538e+01\n",
      " 1.733e+01 1.846e+02 2.019e+03 1.622e-01 6.656e-01 7.119e-01 2.654e-01\n",
      " 4.601e-01 1.189e-01]\n",
      "0\n"
     ]
    }
   ],
   "source": [
    "print(\"Example from Dataset after Whitening:\")\n",
    "print(dataset.data[0])\n",
    "print(dataset.target[0])"
   ]
  },
  {
   "cell_type": "code",
   "execution_count": 7,
   "metadata": {},
   "outputs": [],
   "source": [
    "# Import PCA from Sklearn\n",
    "from sklearn.decomposition import PCA\n",
    "\n",
    "n_components = 3\n",
    "pca = PCA(n_components=n_components, copy=True)\n",
    "pca.fit(x)\n",
    "\n",
    "transformed_x = pca.transform(x)"
   ]
  },
  {
   "cell_type": "code",
   "execution_count": 8,
   "metadata": {
    "scrolled": true
   },
   "outputs": [
    {
     "name": "stdout",
     "output_type": "stream",
     "text": [
      "Components:\n",
      " [[ 0.21890244  0.10372458  0.22753729  0.22099499  0.14258969  0.23928535\n",
      "   0.25840048  0.26085376  0.13816696  0.06436335  0.20597878  0.01742803\n",
      "   0.21132592  0.20286964  0.01453145  0.17039345  0.15358979  0.1834174\n",
      "   0.04249842  0.10256832  0.22799663  0.10446933  0.23663968  0.22487053\n",
      "   0.12795256  0.21009588  0.22876753  0.25088597  0.12290456  0.13178394]\n",
      " [-0.23385713 -0.05970608 -0.21518136 -0.23107671  0.18611306  0.1518916\n",
      "   0.06016535 -0.03476751  0.19034876  0.36657545 -0.10555215  0.08997967\n",
      "  -0.08945724 -0.15229262  0.20443043  0.23271592  0.19720729  0.13032156\n",
      "   0.18384801  0.28009205 -0.21986638 -0.04546729 -0.19987843 -0.21935186\n",
      "   0.17230437  0.14359317  0.0979641  -0.00825724  0.14188335  0.27533946]\n",
      " [-0.00853117  0.06454998 -0.00931417  0.02869949 -0.10429116 -0.0740917\n",
      "   0.00273347 -0.02556379 -0.04024016 -0.0225746   0.26848147  0.37463351\n",
      "   0.26664532  0.2160066   0.30883845  0.1547802   0.17646384  0.22465761\n",
      "   0.28858443  0.21150426 -0.04750694 -0.04229768 -0.04854651 -0.01190237\n",
      "  -0.2597973  -0.23607559 -0.17305758 -0.17034425 -0.27131253 -0.23279152]]\n",
      "Explained Variance:  [13.30499079  5.7013746   2.82291015]\n",
      "Explained Variance Ratio:  [0.44272026 0.18971182 0.09393163]\n",
      "Sum of Explained Variance Ratio:  0.7263637090866762\n"
     ]
    }
   ],
   "source": [
    "# PCA Variables and Data\n",
    "\n",
    "print(\"Components:\\n\", pca.components_)\n",
    "print(\"Explained Variance: \", pca.explained_variance_)\n",
    "print(\"Explained Variance Ratio: \", pca.explained_variance_ratio_)\n",
    "print(\"Sum of Explained Variance Ratio: \", sum(pca.explained_variance_ratio_))"
   ]
  },
  {
   "cell_type": "code",
   "execution_count": 9,
   "metadata": {
    "scrolled": true
   },
   "outputs": [
    {
     "data": {
      "image/png": "[encoded data removed]",
      "text/plain": [
       "<matplotlib.figure.Figure at 0x139a1f17cc0>"
      ]
     },
     "metadata": {},
     "output_type": "display_data"
    }
   ],
   "source": [
    "# Plot the new 2D Data\n",
    "\n",
    "for index, point in enumerate(transformed_x):\n",
    "    if y[index] == 0:\n",
    "        plt.plot(point[0], point[1], color=\"red\", marker=\"o\")\n",
    "    else:\n",
    "        plt.plot(point[0], point[1], color=\"blue\", marker=\"^\")\n",
    "   \n",
    "plt.xlabel(\"x1\")\n",
    "plt.ylabel(\"x2\")\n",
    "plt.title(\"Breat Cancer Dataset in 2D\")\n",
    "plt.show()"
   ]
  },
  {
   "cell_type": "markdown",
   "metadata": {},
   "source": [
    "#### Programmieraufgabe"
   ]
  },
  {
   "cell_type": "code",
   "execution_count": 28,
   "metadata": {
    "scrolled": true
   },
   "outputs": [
    {
     "name": "stdout",
     "output_type": "stream",
     "text": [
      "Sum of Explained Variance Ratio:  0.44272 \t with:  1  components.\n",
      "Sum of Explained Variance Ratio:  0.632432 \t with:  2  components.\n",
      "Sum of Explained Variance Ratio:  0.726364 \t with:  3  components.\n",
      "Sum of Explained Variance Ratio:  0.792385 \t with:  4  components.\n",
      "Sum of Explained Variance Ratio:  0.847343 \t with:  5  components.\n",
      "Sum of Explained Variance Ratio:  0.887588 \t with:  6  components.\n",
      "Sum of Explained Variance Ratio:  0.910095 \t with:  7  components.\n"
     ]
    }
   ],
   "source": [
    "# Aufgabe 1:\n",
    "# Find die Anzahl an Dimensionen, um 90% der Varianz \"zu erklären\"\n",
    "\n",
    "for i in range(1, 29):\n",
    "    n_components = i\n",
    "    pca = PCA(n_components=n_components, copy=True)\n",
    "    pca.fit(x)\n",
    "    \n",
    "    explained_variance_ratio = sum(pca.explained_variance_ratio_)\n",
    "    \n",
    "    if explained_variance_ratio > 0.92:\n",
    "        break\n",
    "    else:  \n",
    "        best_explained_variance_ratio = explained_variance_ratio\n",
    "        print(\"Sum of Explained Variance Ratio: \", round(explained_variance_ratio, 6), \"\\t with: \", n_components, \" components.\")"
   ]
  },
  {
   "cell_type": "code",
   "execution_count": 29,
   "metadata": {},
   "outputs": [],
   "source": [
    "# Aufgabe 2:\n",
    "# Wende das gefundene Setup auf die Daten an\n",
    "\n",
    "n_components = 7\n",
    "pca = PCA(n_components=n_components, copy=True)\n",
    "pca.fit(x)\n",
    "transformed_x = pca.transform(x)"
   ]
  },
  {
   "cell_type": "code",
   "execution_count": 30,
   "metadata": {
    "scrolled": true
   },
   "outputs": [],
   "source": [
    "# Aufgabe 3:\n",
    "# Split das Dataset in ein Train and Testset\n",
    "from sklearn.model_selection import train_test_split\n",
    "\n",
    "x_train, x_test, y_train, y_test = train_test_split(transformed_x, y, random_state=42, test_size=0.30)"
   ]
  },
  {
   "cell_type": "code",
   "execution_count": 34,
   "metadata": {
    "scrolled": true
   },
   "outputs": [
    {
     "name": "stdout",
     "output_type": "stream",
     "text": [
      "Score:  0.9532163742690059  with:  1  neighbors.\n",
      "Score:  0.9590643274853801  with:  3  neighbors.\n",
      "Score:  0.9649122807017544  with:  6  neighbors.\n",
      "Score:  0.9707602339181286  with:  8  neighbors.\n"
     ]
    }
   ],
   "source": [
    "# Aufgabe 4:\n",
    "# Wende das KNN-Verfahren an\n",
    "from sklearn.neighbors import KNeighborsClassifier\n",
    "\n",
    "best_score = 0.0\n",
    "\n",
    "for i in range(1, 10):\n",
    "    n_neighbors = i\n",
    "    neigh = KNeighborsClassifier(n_neighbors=n_neighbors)\n",
    "    neigh.fit(x_train, y_train)\n",
    "    score = neigh.score(x_test, y_test)\n",
    "    \n",
    "    if score > best_score:\n",
    "        best_score = score\n",
    "        print(\"Score: \", score, \" with: \", n_neighbors, \" neighbors.\")"
   ]
  },
  {
   "cell_type": "code",
   "execution_count": 35,
   "metadata": {
    "scrolled": true
   },
   "outputs": [
    {
     "name": "stdout",
     "output_type": "stream",
     "text": [
      "Score:  0.935672514619883  with:  1  neighbors.\n",
      "Score:  0.9415204678362573  with:  3  neighbors.\n",
      "Score:  0.9473684210526315  with:  4  neighbors.\n",
      "Score:  0.9590643274853801  with:  5  neighbors.\n",
      "Score:  0.9649122807017544  with:  7  neighbors.\n",
      "Score:  0.9707602339181286  with:  9  neighbors.\n",
      "Score:  0.9824561403508771  with:  10  neighbors.\n"
     ]
    }
   ],
   "source": [
    "# Aufgabe 5:\n",
    "# Wende das KNN ohne Whitening und ohne PCA an\n",
    "dataset = load_breast_cancer()\n",
    "x = dataset.data\n",
    "y = dataset.target\n",
    "\n",
    "x_train, x_test, y_train, y_test = train_test_split(x, y, random_state=42, test_size=0.30)\n",
    "\n",
    "best_score = 0.0\n",
    "\n",
    "for i in range(1, 11):\n",
    "    n_neighbors = i\n",
    "    neigh = KNeighborsClassifier(n_neighbors=n_neighbors)\n",
    "    neigh.fit(x_train, y_train)\n",
    "    score = neigh.score(x_test, y_test)\n",
    "    \n",
    "    if score > best_score:\n",
    "        best_score = score\n",
    "        print(\"Score: \", score, \" with: \", n_neighbors, \" neighbors.\")"
   ]
  },
  {
   "cell_type": "code",
   "execution_count": 36,
   "metadata": {},
   "outputs": [
    {
     "name": "stdout",
     "output_type": "stream",
     "text": [
      "Score:  0.9005847953216374 \twith:\t 1 \tneighbors and:\t 1  components.\n",
      "Score:  0.9239766081871345 \twith:\t 3 \tneighbors and:\t 1  components.\n",
      "Score:  0.935672514619883 \twith:\t 5 \tneighbors and:\t 1  components.\n",
      "Score:  0.9473684210526315 \twith:\t 7 \tneighbors and:\t 1  components.\n",
      "Score:  0.9649122807017544 \twith:\t 5 \tneighbors and:\t 2  components.\n",
      "Score:  0.9707602339181286 \twith:\t 7 \tneighbors and:\t 2  components.\n",
      "Score:  0.9824561403508771 \twith:\t 10 \tneighbors and:\t 2  components.\n"
     ]
    }
   ],
   "source": [
    "# Aufgabe 6:\n",
    "# Suche dir ein weiteres Matrix Decomposition aus der sklearn.decomposition\n",
    "# Klasse aus und wende es auf das Dataset an\n",
    "from sklearn.decomposition import TruncatedSVD\n",
    "\n",
    "dataset = load_breast_cancer()\n",
    "x = dataset.data\n",
    "y = dataset.target\n",
    "\n",
    "best_score = 0.0\n",
    "\n",
    "for i in range(1, 30):    \n",
    "    # Dimensionalty Reduction\n",
    "    n_components = i\n",
    "    svd = TruncatedSVD(n_components=n_components)\n",
    "    svd.fit(x)\n",
    "    transformed_x = svd.transform(x)\n",
    "    \n",
    "    # Train Test Split\n",
    "    x_train, x_test, y_train, y_test = train_test_split(transformed_x, y, random_state=42, test_size=0.30)\n",
    "    \n",
    "    for j in range(1, 15):\n",
    "        # KNN\n",
    "        n_neighbors = j\n",
    "        neigh = KNeighborsClassifier(n_neighbors=n_neighbors)\n",
    "        neigh.fit(x_train, y_train)\n",
    "        score = neigh.score(x_test, y_test)\n",
    "\n",
    "        if score > best_score:\n",
    "            best_score = score\n",
    "            print(\"Score: \", score, \"\\twith:\\t\", n_neighbors, \"\\tneighbors and:\\t\", n_components, \" components.\")"
   ]
  }
 ],
 "metadata": {
  "kernelspec": {
   "display_name": "Python 3",
   "language": "python",
   "name": "python3"
  },
  "language_info": {
   "codemirror_mode": {
    "name": "ipython",
    "version": 3
   },
   "file_extension": ".py",
   "mimetype": "text/x-python",
   "name": "python",
   "nbconvert_exporter": "python",
   "pygments_lexer": "ipython3",
   "version": "3.6.4"
  }
 },
 "nbformat": 4,
 "nbformat_minor": 2
}
