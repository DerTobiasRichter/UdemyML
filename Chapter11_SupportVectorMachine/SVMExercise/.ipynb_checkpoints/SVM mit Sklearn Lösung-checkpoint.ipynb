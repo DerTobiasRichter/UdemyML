{
 "cells": [
  {
   "cell_type": "code",
   "execution_count": 1,
   "metadata": {},
   "outputs": [],
   "source": [
    "# Imports\n",
    "import time\n",
    "import numpy as np\n",
    "import pandas as pd\n",
    "import matplotlib.pyplot as plt\n",
    "\n",
    "# Sklearn Methoden\n",
    "from sklearn.svm import SVC\n",
    "from sklearn.metrics import confusion_matrix\n",
    "from sklearn.datasets import load_digits\n",
    "from sklearn.model_selection import GridSearchCV\n",
    "from sklearn.model_selection import train_test_split\n",
    "from sklearn.model_selection import cross_val_score\n",
    "from sklearn.model_selection import cross_val_predict\n",
    "from sklearn.model_selection import KFold\n",
    "from sklearn.decomposition import PCA\n",
    "from sklearn.preprocessing import StandardScaler"
   ]
  },
  {
   "cell_type": "code",
   "execution_count": 2,
   "metadata": {
    "scrolled": true
   },
   "outputs": [
    {
     "name": "stdout",
     "output_type": "stream",
     "text": [
      "Bilder:  1797\n",
      "Pixel:  64\n"
     ]
    }
   ],
   "source": [
    "# Load Dataset\n",
    "mnist = load_digits()\n",
    "\n",
    "x = mnist.data.astype(np.float32)\n",
    "y = mnist.target.astype(np.float32)\n",
    "x_train, x_test, y_train, y_test = train_test_split(x, y, random_state=42, test_size=0.33)\n",
    "\n",
    "n_samples, n_features = x.shape\n",
    "print(\"Bilder: \", n_samples)\n",
    "print(\"Pixel: \", n_features)"
   ]
  },
  {
   "cell_type": "code",
   "execution_count": 3,
   "metadata": {
    "scrolled": false
   },
   "outputs": [
    {
     "data": {
      "image/png": "[encoded data removed]",
      "text/plain": [
       "<Figure size 432x288 with 10 Axes>"
      ]
     },
     "metadata": {
      "needs_background": "light"
     },
     "output_type": "display_data"
    }
   ],
   "source": [
    "# Plot random images\n",
    "for index, (image, label) in enumerate(zip(x_train[:10], y_train[:10])):\n",
    "    plt.subplot(2, 5, index + 1)\n",
    "    plt.axis('off')\n",
    "    plt.imshow(image.reshape((8, 8)), cmap=plt.cm.gray_r, interpolation='nearest')\n",
    "    plt.title('Train: %i' % (label+1))"
   ]
  },
  {
   "cell_type": "code",
   "execution_count": 4,
   "metadata": {},
   "outputs": [],
   "source": [
    "# Normalize Features with StandardScaler\n",
    "scaler = StandardScaler()\n",
    "scaler.fit(x_train)\n",
    "\n",
    "x_train = scaler.transform(x_train)\n",
    "x_test = scaler.transform(x_test)"
   ]
  },
  {
   "cell_type": "code",
   "execution_count": 5,
   "metadata": {},
   "outputs": [
    {
     "name": "stdout",
     "output_type": "stream",
     "text": [
      "Training done in  2.727654218673706  seconds.\n"
     ]
    },
    {
     "name": "stderr",
     "output_type": "stream",
     "text": [
      "C:\\ProgramData\\Anaconda3\\lib\\site-packages\\sklearn\\model_selection\\_search.py:814: DeprecationWarning: The default of the `iid` parameter will change from True to False in version 0.22 and will be removed in 0.24. This will change numeric results when test-set sizes are unequal.\n",
      "  DeprecationWarning)\n"
     ]
    }
   ],
   "source": [
    "# Aufgabe 1: Trainiere eine SVM mit der GridSearch.\n",
    "# Was fällt beim Training auf?\n",
    "# Sklearn: http://scikit-learn.org/stable/modules/generated/sklearn.svm.SVC.html\n",
    "\n",
    "parameters = {'kernel': ['rbf', 'poly', 'linear', 'sigmoid'], \n",
    "              'gamma': [0.01, 0.001]}\n",
    "\n",
    "svm = SVC()\n",
    "\n",
    "start_time = time.time()\n",
    "clf = GridSearchCV(svm, parameters, cv=10, n_jobs=-1)\n",
    "clf.fit(x_train, y_train)\n",
    "end_time = time.time()\n",
    "print(\"Training done in \", (end_time - start_time), \" seconds.\")\n",
    "\n",
    "y_pred = clf.predict(x_test)\n",
    "score = clf.score(x_test, y_test)"
   ]
  },
  {
   "cell_type": "code",
   "execution_count": 6,
   "metadata": {
    "scrolled": true
   },
   "outputs": [
    {
     "name": "stdout",
     "output_type": "stream",
     "text": [
      "Score:  0.9730639730639731\n",
      "Confusion matrix:\n",
      " [[55  0  0  0  0  0  0  0  0  0]\n",
      " [ 0 55  0  0  0  0  0  0  0  0]\n",
      " [ 0  0 52  0  0  0  0  0  0  0]\n",
      " [ 0  0  1 52  0  1  0  0  2  0]\n",
      " [ 0  0  0  0 64  0  0  0  0  0]\n",
      " [ 0  0  0  0  1 71  1  0  0  0]\n",
      " [ 0  0  0  0  0  1 56  0  0  0]\n",
      " [ 0  0  0  0  0  0  0 61  0  1]\n",
      " [ 0  1  1  1  0  0  0  0 48  1]\n",
      " [ 0  0  0  1  0  1  1  0  1 64]]\n"
     ]
    }
   ],
   "source": [
    "# Aufgabe 2: Gebe die Genauigkeit und die Confusion_matrix an.\n",
    "print(\"Score: \", score)\n",
    "print(\"Confusion matrix:\\n\", confusion_matrix(y_test, y_pred))"
   ]
  },
  {
   "cell_type": "code",
   "execution_count": 7,
   "metadata": {},
   "outputs": [
    {
     "name": "stdout",
     "output_type": "stream",
     "text": [
      "Dimensions before:   64\n",
      "Dimensions to keep:  40\n",
      "Explained Variance:  0.95402231\n"
     ]
    }
   ],
   "source": [
    "# Aufgabe 3: Wendet PCA an um die Feature-Dimensionen zu senken.\n",
    "# Es soll min 95 der Varianz behalten werden.\n",
    "# Trainiere anschließend eine SVM mit der GridSearch.\n",
    "# Was fällt beim Training auf?\n",
    "\n",
    "pca = PCA(n_components=0.95)\n",
    "pca.fit(x_train)\n",
    "x_train_transformed = pca.transform(x_train)\n",
    "x_test_transformed = pca.transform(x_test)\n",
    "\n",
    "print(\"Dimensions before:  \", x_train.shape[1])\n",
    "print(\"Dimensions to keep: \", len(pca.components_ ))\n",
    "print(\"Explained Variance: \", round(sum(pca.explained_variance_ratio_ ), 8))"
   ]
  },
  {
   "cell_type": "code",
   "execution_count": 8,
   "metadata": {},
   "outputs": [
    {
     "name": "stdout",
     "output_type": "stream",
     "text": [
      "Training done in  0.7472949028015137  seconds.\n"
     ]
    },
    {
     "name": "stderr",
     "output_type": "stream",
     "text": [
      "C:\\ProgramData\\Anaconda3\\lib\\site-packages\\sklearn\\model_selection\\_search.py:814: DeprecationWarning: The default of the `iid` parameter will change from True to False in version 0.22 and will be removed in 0.24. This will change numeric results when test-set sizes are unequal.\n",
      "  DeprecationWarning)\n"
     ]
    }
   ],
   "source": [
    "parameters = {'kernel': ['rbf', 'poly', 'linear', 'sigmoid'], \n",
    "              'gamma': [0.01, 0.001]}\n",
    "\n",
    "svm = SVC()\n",
    "\n",
    "start_time = time.time()\n",
    "clf = GridSearchCV(svm, parameters, cv=10, n_jobs=-1)\n",
    "clf.fit(x_train_transformed, y_train)\n",
    "end_time = time.time()\n",
    "print(\"Training done in \", (end_time - start_time), \" seconds.\")\n",
    "\n",
    "y_pred = clf.predict(x_test_transformed)\n",
    "score = clf.score(x_test_transformed, y_test)"
   ]
  },
  {
   "cell_type": "code",
   "execution_count": 9,
   "metadata": {
    "scrolled": true
   },
   "outputs": [
    {
     "name": "stdout",
     "output_type": "stream",
     "text": [
      "Score:  0.9713804713804713\n",
      "Confusion matrix:\n",
      " [[55  0  0  0  0  0  0  0  0  0]\n",
      " [ 0 54  1  0  0  0  0  0  0  0]\n",
      " [ 0  0 52  0  0  0  0  0  0  0]\n",
      " [ 0  0  1 52  0  1  0  0  2  0]\n",
      " [ 0  0  0  0 64  0  0  0  0  0]\n",
      " [ 0  0  0  0  1 70  1  0  0  1]\n",
      " [ 1  0  0  0  0  0 56  0  0  0]\n",
      " [ 0  0  0  0  0  0  0 61  0  1]\n",
      " [ 0  1  1  1  0  0  0  0 49  0]\n",
      " [ 0  0  0  1  0  1  1  1  0 64]]\n"
     ]
    }
   ],
   "source": [
    "# Aufgabe 4: Gebe die Genauigkeit und die Confusion_matrix  des besten Modells an.\n",
    "print(\"Score: \", score)\n",
    "print(\"Confusion matrix:\\n\", confusion_matrix(y_test, y_pred))"
   ]
  }
 ],
 "metadata": {
  "kernelspec": {
   "display_name": "Python 3",
   "language": "python",
   "name": "python3"
  },
  "language_info": {
   "codemirror_mode": {
    "name": "ipython",
    "version": 3
   },
   "file_extension": ".py",
   "mimetype": "text/x-python",
   "name": "python",
   "nbconvert_exporter": "python",
   "pygments_lexer": "ipython3",
   "version": "3.7.4"
  }
 },
 "nbformat": 4,
 "nbformat_minor": 2
}
