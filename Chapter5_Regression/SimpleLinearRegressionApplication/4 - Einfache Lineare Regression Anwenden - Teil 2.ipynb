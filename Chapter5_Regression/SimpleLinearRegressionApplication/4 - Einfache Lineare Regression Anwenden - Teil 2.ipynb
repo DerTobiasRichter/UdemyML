{
 "cells": [
  {
   "cell_type": "code",
   "execution_count": 1,
   "metadata": {},
   "outputs": [],
   "source": [
    "import pandas as pd\n",
    "from sklearn.datasets import load_boston\n",
    "import numpy as np\n",
    "import matplotlib.pyplot as plt"
   ]
  },
  {
   "cell_type": "code",
   "execution_count": 2,
   "metadata": {},
   "outputs": [],
   "source": [
    "dataset = load_boston()\n",
    "df = pd.DataFrame(dataset.data, columns=dataset.feature_names)"
   ]
  },
  {
   "cell_type": "code",
   "execution_count": 3,
   "metadata": {
    "scrolled": true
   },
   "outputs": [
    {
     "name": "stdout",
     "output_type": "stream",
     "text": [
      ".. _boston_dataset:\n",
      "\n",
      "Boston house prices dataset\n",
      "---------------------------\n",
      "\n",
      "**Data Set Characteristics:**  \n",
      "\n",
      "    :Number of Instances: 506 \n",
      "\n",
      "    :Number of Attributes: 13 numeric/categorical predictive. Median Value (attribute 14) is usually the target.\n",
      "\n",
      "    :Attribute Information (in order):\n",
      "        - CRIM     per capita crime rate by town\n",
      "        - ZN       proportion of residential land zoned for lots over 25,000 sq.ft.\n",
      "        - INDUS    proportion of non-retail business acres per town\n",
      "        - CHAS     Charles River dummy variable (= 1 if tract bounds river; 0 otherwise)\n",
      "        - NOX      nitric oxides concentration (parts per 10 million)\n",
      "        - RM       average number of rooms per dwelling\n",
      "        - AGE      proportion of owner-occupied units built prior to 1940\n",
      "        - DIS      weighted distances to five Boston employment centres\n",
      "        - RAD      index of accessibility to radial highways\n",
      "        - TAX      full-value property-tax rate per $10,000\n",
      "        - PTRATIO  pupil-teacher ratio by town\n",
      "        - B        1000(Bk - 0.63)^2 where Bk is the proportion of blacks by town\n",
      "        - LSTAT    % lower status of the population\n",
      "        - MEDV     Median value of owner-occupied homes in $1000's\n",
      "\n",
      "    :Missing Attribute Values: None\n",
      "\n",
      "    :Creator: Harrison, D. and Rubinfeld, D.L.\n",
      "\n",
      "This is a copy of UCI ML housing dataset.\n",
      "https://archive.ics.uci.edu/ml/machine-learning-databases/housing/\n",
      "\n",
      "\n",
      "This dataset was taken from the StatLib library which is maintained at Carnegie Mellon University.\n",
      "\n",
      "The Boston house-price data of Harrison, D. and Rubinfeld, D.L. 'Hedonic\n",
      "prices and the demand for clean air', J. Environ. Economics & Management,\n",
      "vol.5, 81-102, 1978.   Used in Belsley, Kuh & Welsch, 'Regression diagnostics\n",
      "...', Wiley, 1980.   N.B. Various transformations are used in the table on\n",
      "pages 244-261 of the latter.\n",
      "\n",
      "The Boston house-price data has been used in many machine learning papers that address regression\n",
      "problems.   \n",
      "     \n",
      ".. topic:: References\n",
      "\n",
      "   - Belsley, Kuh & Welsch, 'Regression diagnostics: Identifying Influential Data and Sources of Collinearity', Wiley, 1980. 244-261.\n",
      "   - Quinlan,R. (1993). Combining Instance-Based and Model-Based Learning. In Proceedings on the Tenth International Conference of Machine Learning, 236-243, University of Massachusetts, Amherst. Morgan Kaufmann.\n",
      "\n"
     ]
    }
   ],
   "source": [
    "print(dataset['DESCR'])"
   ]
  },
  {
   "cell_type": "code",
   "execution_count": 4,
   "metadata": {},
   "outputs": [
    {
     "data": {
      "text/html": [
       "<div>\n",
       "<style scoped>\n",
       "    .dataframe tbody tr th:only-of-type {\n",
       "        vertical-align: middle;\n",
       "    }\n",
       "\n",
       "    .dataframe tbody tr th {\n",
       "        vertical-align: top;\n",
       "    }\n",
       "\n",
       "    .dataframe thead th {\n",
       "        text-align: right;\n",
       "    }\n",
       "</style>\n",
       "<table border=\"1\" class=\"dataframe\">\n",
       "  <thead>\n",
       "    <tr style=\"text-align: right;\">\n",
       "      <th></th>\n",
       "      <th>CRIM</th>\n",
       "      <th>ZN</th>\n",
       "      <th>INDUS</th>\n",
       "      <th>CHAS</th>\n",
       "      <th>NOX</th>\n",
       "      <th>RM</th>\n",
       "      <th>AGE</th>\n",
       "      <th>DIS</th>\n",
       "      <th>RAD</th>\n",
       "      <th>TAX</th>\n",
       "      <th>PTRATIO</th>\n",
       "      <th>B</th>\n",
       "      <th>LSTAT</th>\n",
       "    </tr>\n",
       "  </thead>\n",
       "  <tbody>\n",
       "    <tr>\n",
       "      <td>0</td>\n",
       "      <td>0.00632</td>\n",
       "      <td>18.0</td>\n",
       "      <td>2.31</td>\n",
       "      <td>0.0</td>\n",
       "      <td>0.538</td>\n",
       "      <td>6.575</td>\n",
       "      <td>65.2</td>\n",
       "      <td>4.0900</td>\n",
       "      <td>1.0</td>\n",
       "      <td>296.0</td>\n",
       "      <td>15.3</td>\n",
       "      <td>396.90</td>\n",
       "      <td>4.98</td>\n",
       "    </tr>\n",
       "    <tr>\n",
       "      <td>1</td>\n",
       "      <td>0.02731</td>\n",
       "      <td>0.0</td>\n",
       "      <td>7.07</td>\n",
       "      <td>0.0</td>\n",
       "      <td>0.469</td>\n",
       "      <td>6.421</td>\n",
       "      <td>78.9</td>\n",
       "      <td>4.9671</td>\n",
       "      <td>2.0</td>\n",
       "      <td>242.0</td>\n",
       "      <td>17.8</td>\n",
       "      <td>396.90</td>\n",
       "      <td>9.14</td>\n",
       "    </tr>\n",
       "    <tr>\n",
       "      <td>2</td>\n",
       "      <td>0.02729</td>\n",
       "      <td>0.0</td>\n",
       "      <td>7.07</td>\n",
       "      <td>0.0</td>\n",
       "      <td>0.469</td>\n",
       "      <td>7.185</td>\n",
       "      <td>61.1</td>\n",
       "      <td>4.9671</td>\n",
       "      <td>2.0</td>\n",
       "      <td>242.0</td>\n",
       "      <td>17.8</td>\n",
       "      <td>392.83</td>\n",
       "      <td>4.03</td>\n",
       "    </tr>\n",
       "    <tr>\n",
       "      <td>3</td>\n",
       "      <td>0.03237</td>\n",
       "      <td>0.0</td>\n",
       "      <td>2.18</td>\n",
       "      <td>0.0</td>\n",
       "      <td>0.458</td>\n",
       "      <td>6.998</td>\n",
       "      <td>45.8</td>\n",
       "      <td>6.0622</td>\n",
       "      <td>3.0</td>\n",
       "      <td>222.0</td>\n",
       "      <td>18.7</td>\n",
       "      <td>394.63</td>\n",
       "      <td>2.94</td>\n",
       "    </tr>\n",
       "    <tr>\n",
       "      <td>4</td>\n",
       "      <td>0.06905</td>\n",
       "      <td>0.0</td>\n",
       "      <td>2.18</td>\n",
       "      <td>0.0</td>\n",
       "      <td>0.458</td>\n",
       "      <td>7.147</td>\n",
       "      <td>54.2</td>\n",
       "      <td>6.0622</td>\n",
       "      <td>3.0</td>\n",
       "      <td>222.0</td>\n",
       "      <td>18.7</td>\n",
       "      <td>396.90</td>\n",
       "      <td>5.33</td>\n",
       "    </tr>\n",
       "  </tbody>\n",
       "</table>\n",
       "</div>"
      ],
      "text/plain": [
       "      CRIM    ZN  INDUS  CHAS    NOX     RM   AGE     DIS  RAD    TAX  \\\n",
       "0  0.00632  18.0   2.31   0.0  0.538  6.575  65.2  4.0900  1.0  296.0   \n",
       "1  0.02731   0.0   7.07   0.0  0.469  6.421  78.9  4.9671  2.0  242.0   \n",
       "2  0.02729   0.0   7.07   0.0  0.469  7.185  61.1  4.9671  2.0  242.0   \n",
       "3  0.03237   0.0   2.18   0.0  0.458  6.998  45.8  6.0622  3.0  222.0   \n",
       "4  0.06905   0.0   2.18   0.0  0.458  7.147  54.2  6.0622  3.0  222.0   \n",
       "\n",
       "   PTRATIO       B  LSTAT  \n",
       "0     15.3  396.90   4.98  \n",
       "1     17.8  396.90   9.14  \n",
       "2     17.8  392.83   4.03  \n",
       "3     18.7  394.63   2.94  \n",
       "4     18.7  396.90   5.33  "
      ]
     },
     "execution_count": 4,
     "metadata": {},
     "output_type": "execute_result"
    }
   ],
   "source": [
    "df.head()"
   ]
  },
  {
   "cell_type": "markdown",
   "metadata": {},
   "source": [
    "#### Einfache Lineare Regression\n",
    "\n",
    "#### Formeln:\n",
    "\n",
    "  - $m = \\frac{\\sum_{i=1}^{n}(x_i-\\bar{x})(y_i-\\bar{y})}{\\sum_{i=1}^n(x_i-\\bar{x})^2}$ \n",
    "    \n",
    "  - $b = \\bar{y} - m \\cdot \\bar{x}$\n",
    "    \n",
    "  - $R^2 = 1 - \\frac{\\sum_{i=1}^n(y_i-\\hat{y})^2}{\\sum_{i=1}^n(y_i-\\bar{y})^2}$\n",
    "  \n",
    "  - $y = m \\cdot x + b$\n",
    "  \n",
    "#### Bedeutung:\n",
    "  \n",
    "  - $R^2 :=$ Wie viel Streuung kann von dem Regressionsmodell erklärt werden\n",
    "  - $m :=$ Steigung der Geraden\n",
    "  - $b :=$ y-Achsenabschnitt\n",
    "  \n",
    "#### Symbole:\n",
    "  - $\\bar{x} :=$ Mittelwert von $x$\n",
    "  - $\\hat{y} :=$ Schätzung zum Wert x"
   ]
  },
  {
   "cell_type": "code",
   "execution_count": 5,
   "metadata": {},
   "outputs": [],
   "source": [
    "# Einfache Lineare Regression Programmieren\n",
    "\n",
    "# Compute Slope (Param m)\n",
    "def compute_slope(x, y, x_mean, y_mean):\n",
    "    frac1 = sum([(x[i] - x_mean)*(y[i] - y_mean) for i in range(len(x))])\n",
    "    frac2 = sum([(x[i] - x_mean)**2 for i in range(len(x))])\n",
    "    slope = frac1 / frac2\n",
    "    return slope"
   ]
  },
  {
   "cell_type": "code",
   "execution_count": 6,
   "metadata": {},
   "outputs": [],
   "source": [
    "# Compute intercept (Param b)\n",
    "def compute_intercept(x_mean, y_mean, slope):\n",
    "    intercept = y_mean - slope * x_mean\n",
    "    return intercept"
   ]
  },
  {
   "cell_type": "code",
   "execution_count": 7,
   "metadata": {},
   "outputs": [],
   "source": [
    "# Compute Regression Line\n",
    "def compute_regression(x, slope, intercept):\n",
    "    regression_line = [slope * x[i] + intercept for i in range(len(x))]\n",
    "    return regression_line"
   ]
  },
  {
   "cell_type": "code",
   "execution_count": 8,
   "metadata": {},
   "outputs": [],
   "source": [
    "# R-Squared\n",
    "def compute_r2(y, y_mean, regression_line):\n",
    "    frac1 = sum([(y[i] - regression_line[i])**2 for i in range(len(y))])\n",
    "    frac2 = sum([(y[i] - y_mean)**2 for i in range(len(y))])\n",
    "    r2 = 1 - frac1 / frac2\n",
    "    return r2"
   ]
  },
  {
   "cell_type": "markdown",
   "metadata": {},
   "source": [
    "##### Starting Training and Testing Functions"
   ]
  },
  {
   "cell_type": "code",
   "execution_count": 9,
   "metadata": {},
   "outputs": [
    {
     "name": "stdout",
     "output_type": "stream",
     "text": [
      "(406,)\n",
      "[ 84.1  32.9  98.8   7.8  91.8  74.5  83.2  93.6  90.7  79.7  93.8  85.9\n",
      " 100.   53.7  74.3  67.6  95.8 100.   32.   98.7  16.3  32.1  94.1  69.1\n",
      "  95.3  95.4  36.6  94.1  92.1  70.6  88.5  52.3  97.9  96.2  94.5  98.5\n",
      "  61.1  46.3  59.1   6.2  72.9  70.3  31.9  36.8  66.1  97.   95.    6.6\n",
      "  84.   65.2  82.9  37.2  91.7  71.3  52.6  51.9 100.   27.9  48.   70.2\n",
      "  43.4  21.9  21.4  36.6  35.9 100.   98.8  32.2  21.8  87.9  33.3  74.9\n",
      "  96.6  19.5  45.8 100.   90.   33.2  99.1  98.3  33.   97.9  19.1  97.\n",
      "  90.4  66.5  90.   40.1  28.9  98.4  47.2  89.1  97.7  52.3  87.9  97.9\n",
      " 100.  100.   93.3 100.   45.1  45.   97.3  56.5  23.3  85.1  69.5  14.7\n",
      "  34.5  35.7 100.  100.   38.5  62.2  79.9  95.   83.3  85.7  54.   18.5\n",
      "  76.5  13.  100.   82.6   6.6  49.9  27.7  92.2  82.6  64.5  95.6  17.2\n",
      " 100.   95.4  93.8  74.8  37.3  40.5  18.8  94.1  81.7  20.1  31.1  88.6\n",
      "  85.4  77.3  96.   97.2 100.   83.   87.9  96.6  58.7  72.5  33.8  29.3\n",
      "  71.   88.   45.8 100.   68.8  66.2  54.4  54.3  62.8  87.3  91.5  96.7\n",
      "  90.3  96.1  83.5  97.1  41.5  97.4  75.   73.1  84.2  33.1  26.3  58.7\n",
      "  97.8 100.  100.   97.4  27.6  88.5  92.6 100.   96.8  21.4  91.1  96.1\n",
      "  73.5  94.7 100.    9.9  17.5  91.2 100.  100.   53.6  88.   77.7  41.1\n",
      "  46.7  49.1  93.   93.9  15.3  76.9   6.   52.8  86.5   8.4  65.2  20.8\n",
      "  18.4  40.3  91.   96.   17.   89.4  71.6 100.   93.6  61.4  34.1  97.9\n",
      " 100.   79.2  31.3  96.2  47.2  81.6  63.1  84.6  66.6  82.9  91.   49.3\n",
      " 100.   97.3  73.4  98.9  89.8  67.2  94.3  91.2  87.4  70.4  30.2  71.7\n",
      "  79.2  97.4  10.   51.   38.3  98.8 100.   96.   95.7  78.1  22.9  97.\n",
      "  98.   69.6 100.   42.2  42.8  76.   36.1  92.9  95.6  15.7  34.9  41.9\n",
      "  40.4  21.9 100.   77.8  31.5  88.4  58.1  80.8  87.6  92.4  94.7  70.6\n",
      "  27.7  28.4  91.9  64.7  83.4  58.   42.3  97.5  87.9  92.9  58.4  37.8\n",
      "  59.7  38.1  53.2  80.3  70.4  87.3  91.8  93.5  36.6 100.   73.3  88.2\n",
      "  69.7  18.5  78.3 100.   58.5  96.   31.9 100.   85.2 100.   98.3  95.4\n",
      " 100.   40.   28.8  17.8  24.8  56.1  52.9  53.6  95.4 100.   39.   68.2\n",
      "  94.4  94.6 100.  100.   34.5  91.3  57.8  63.   54.3  93.3 100.   74.4\n",
      "   2.9  92.4  82.5  52.5  49.7  32.   90.8  54.2  34.2  99.3  79.9  86.5\n",
      "  94.3  32.3  59.7  97.3  36.9  23.4  42.4  93.4  85.5  82.   67.   43.7\n",
      "  13.9  98.2  88.8  92.6  68.1  81.8  45.6  98.2  95.6  98.2  67.8  98.2\n",
      "  98.8  77.  100.   28.9  56.7  59.5  47.4  84.5  94.   15.8 100.   48.2\n",
      " 100.   56.   32.2  93.9  89.3  59.6  76.5  72.7  53.8  31.1]\n"
     ]
    }
   ],
   "source": [
    "np.random.seed(42)\n",
    "\n",
    "x = dataset.data[:, 6]\n",
    "y = dataset.target\n",
    "\n",
    "indices = np.random.permutation(len(x))\n",
    "test_size = 100\n",
    "\n",
    "x_train = x[indices[:-test_size]]\n",
    "y_train = y[indices[:-test_size]]\n",
    "\n",
    "x_test = x[indices[-test_size:]]\n",
    "y_test = y[indices[-test_size:]]\n",
    "\n",
    "print(x_train.shape)\n",
    "print(x_train)"
   ]
  },
  {
   "cell_type": "code",
   "execution_count": 10,
   "metadata": {},
   "outputs": [],
   "source": [
    "def train_model(x, y):\n",
    "    x_mean = np.mean(x)\n",
    "    y_mean = np.mean(y)\n",
    "    m = compute_slope(x, y, x_mean, y_mean)\n",
    "    b = compute_intercept(x_mean, y_mean, m)\n",
    "    print(\"Finished Training!\")\n",
    "    print(\"With Params m: \", m, \" and b: \", b)\n",
    "    regression_line = compute_regression(x, m, b)\n",
    "    r2 = compute_r2(y, y_mean, regression_line)\n",
    "    print(\"With R2: \", r2)\n",
    "    return m, b"
   ]
  },
  {
   "cell_type": "code",
   "execution_count": 11,
   "metadata": {},
   "outputs": [],
   "source": [
    "def test_model(x, y, m, b):\n",
    "    y_mean = np.mean(y)\n",
    "    regression_line = compute_regression(x, m, b)\n",
    "    r2 = compute_r2(y, y_mean, regression_line)\n",
    "    print(\"Finished Testing!\")\n",
    "    print(\"With R2: \", r2)\n",
    "    return r2"
   ]
  },
  {
   "cell_type": "code",
   "execution_count": 12,
   "metadata": {},
   "outputs": [
    {
     "name": "stdout",
     "output_type": "stream",
     "text": [
      "Finished Training!\n",
      "With Params m:  -0.1348917653163677  and b:  31.8263471525189\n",
      "With R2:  0.16325096615844092\n"
     ]
    }
   ],
   "source": [
    "m, b = train_model(x_train, y_train)"
   ]
  },
  {
   "cell_type": "code",
   "execution_count": 13,
   "metadata": {
    "scrolled": false
   },
   "outputs": [
    {
     "name": "stdout",
     "output_type": "stream",
     "text": [
      "Finished Testing!\n",
      "With R2:  0.030413494959394827\n"
     ]
    }
   ],
   "source": [
    "r2_test = test_model(x_test, y_test, m, b)"
   ]
  },
  {
   "cell_type": "markdown",
   "metadata": {},
   "source": [
    "#### Starting Plotting"
   ]
  },
  {
   "cell_type": "code",
   "execution_count": 20,
   "metadata": {},
   "outputs": [
    {
     "name": "stdout",
     "output_type": "stream",
     "text": [
      "[32.231022448468, 17.66271179430029]\n",
      "[32.231022448468]\n",
      "[17.66271179430029]\n",
      "[26.43067653986419]\n"
     ]
    },
    {
     "data": {
      "image/png": "[encoded data removed]",
      "text/plain": [
       "<Figure size 432x288 with 1 Axes>"
      ]
     },
     "metadata": {
      "needs_background": "light"
     },
     "output_type": "display_data"
    }
   ],
   "source": [
    "LB = int(np.floor(np.min(x))) - 5\n",
    "UB = int(np.floor(np.max(x))) + 5\n",
    "\n",
    "line = [m * i + b for i in [LB, UB]]\n",
    "\n",
    "plt.scatter(x_test, y_test, color=\"blue\")\n",
    "plt.plot([LB, UB], line, color=\"red\")\n",
    "plt.show()"
   ]
  }
 ],
 "metadata": {
  "kernelspec": {
   "display_name": "Python 3",
   "language": "python",
   "name": "python3"
  },
  "language_info": {
   "codemirror_mode": {
    "name": "ipython",
    "version": 3
   },
   "file_extension": ".py",
   "mimetype": "text/x-python",
   "name": "python",
   "nbconvert_exporter": "python",
   "pygments_lexer": "ipython3",
   "version": "3.7.4"
  }
 },
 "nbformat": 4,
 "nbformat_minor": 2
}
