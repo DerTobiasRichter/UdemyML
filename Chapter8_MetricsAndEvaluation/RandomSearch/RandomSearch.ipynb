{
 "cells": [
  {
   "cell_type": "code",
   "execution_count": 1,
   "metadata": {},
   "outputs": [],
   "source": [
    "# Imports\n",
    "import itertools\n",
    "import numpy as np\n",
    "import pandas as pd\n",
    "import matplotlib.pyplot as plt\n",
    "\n",
    "from sklearn.neighbors import KNeighborsClassifier\n",
    "from sklearn.model_selection import train_test_split\n",
    "from sklearn.datasets import load_breast_cancer"
   ]
  },
  {
   "cell_type": "code",
   "execution_count": 2,
   "metadata": {},
   "outputs": [
    {
     "name": "stdout",
     "output_type": "stream",
     "text": [
      "Samples:  569\n"
     ]
    }
   ],
   "source": [
    "# Dataset for Classification\n",
    "dataset = load_breast_cancer()\n",
    "x = dataset.data\n",
    "y = dataset.target\n",
    "\n",
    "print(\"Samples: \", len(x))"
   ]
  },
  {
   "cell_type": "code",
   "execution_count": 3,
   "metadata": {},
   "outputs": [
    {
     "data": {
      "text/html": [
       "<div>\n",
       "<style scoped>\n",
       "    .dataframe tbody tr th:only-of-type {\n",
       "        vertical-align: middle;\n",
       "    }\n",
       "\n",
       "    .dataframe tbody tr th {\n",
       "        vertical-align: top;\n",
       "    }\n",
       "\n",
       "    .dataframe thead th {\n",
       "        text-align: right;\n",
       "    }\n",
       "</style>\n",
       "<table border=\"1\" class=\"dataframe\">\n",
       "  <thead>\n",
       "    <tr style=\"text-align: right;\">\n",
       "      <th></th>\n",
       "      <th>mean radius</th>\n",
       "      <th>mean texture</th>\n",
       "      <th>mean perimeter</th>\n",
       "      <th>mean area</th>\n",
       "      <th>mean smoothness</th>\n",
       "      <th>mean compactness</th>\n",
       "      <th>mean concavity</th>\n",
       "      <th>mean concave points</th>\n",
       "      <th>mean symmetry</th>\n",
       "      <th>mean fractal dimension</th>\n",
       "      <th>...</th>\n",
       "      <th>worst radius</th>\n",
       "      <th>worst texture</th>\n",
       "      <th>worst perimeter</th>\n",
       "      <th>worst area</th>\n",
       "      <th>worst smoothness</th>\n",
       "      <th>worst compactness</th>\n",
       "      <th>worst concavity</th>\n",
       "      <th>worst concave points</th>\n",
       "      <th>worst symmetry</th>\n",
       "      <th>worst fractal dimension</th>\n",
       "    </tr>\n",
       "  </thead>\n",
       "  <tbody>\n",
       "    <tr>\n",
       "      <th>0</th>\n",
       "      <td>17.99</td>\n",
       "      <td>10.38</td>\n",
       "      <td>122.80</td>\n",
       "      <td>1001.0</td>\n",
       "      <td>0.11840</td>\n",
       "      <td>0.27760</td>\n",
       "      <td>0.3001</td>\n",
       "      <td>0.14710</td>\n",
       "      <td>0.2419</td>\n",
       "      <td>0.07871</td>\n",
       "      <td>...</td>\n",
       "      <td>25.38</td>\n",
       "      <td>17.33</td>\n",
       "      <td>184.60</td>\n",
       "      <td>2019.0</td>\n",
       "      <td>0.1622</td>\n",
       "      <td>0.6656</td>\n",
       "      <td>0.7119</td>\n",
       "      <td>0.2654</td>\n",
       "      <td>0.4601</td>\n",
       "      <td>0.11890</td>\n",
       "    </tr>\n",
       "    <tr>\n",
       "      <th>1</th>\n",
       "      <td>20.57</td>\n",
       "      <td>17.77</td>\n",
       "      <td>132.90</td>\n",
       "      <td>1326.0</td>\n",
       "      <td>0.08474</td>\n",
       "      <td>0.07864</td>\n",
       "      <td>0.0869</td>\n",
       "      <td>0.07017</td>\n",
       "      <td>0.1812</td>\n",
       "      <td>0.05667</td>\n",
       "      <td>...</td>\n",
       "      <td>24.99</td>\n",
       "      <td>23.41</td>\n",
       "      <td>158.80</td>\n",
       "      <td>1956.0</td>\n",
       "      <td>0.1238</td>\n",
       "      <td>0.1866</td>\n",
       "      <td>0.2416</td>\n",
       "      <td>0.1860</td>\n",
       "      <td>0.2750</td>\n",
       "      <td>0.08902</td>\n",
       "    </tr>\n",
       "    <tr>\n",
       "      <th>2</th>\n",
       "      <td>19.69</td>\n",
       "      <td>21.25</td>\n",
       "      <td>130.00</td>\n",
       "      <td>1203.0</td>\n",
       "      <td>0.10960</td>\n",
       "      <td>0.15990</td>\n",
       "      <td>0.1974</td>\n",
       "      <td>0.12790</td>\n",
       "      <td>0.2069</td>\n",
       "      <td>0.05999</td>\n",
       "      <td>...</td>\n",
       "      <td>23.57</td>\n",
       "      <td>25.53</td>\n",
       "      <td>152.50</td>\n",
       "      <td>1709.0</td>\n",
       "      <td>0.1444</td>\n",
       "      <td>0.4245</td>\n",
       "      <td>0.4504</td>\n",
       "      <td>0.2430</td>\n",
       "      <td>0.3613</td>\n",
       "      <td>0.08758</td>\n",
       "    </tr>\n",
       "    <tr>\n",
       "      <th>3</th>\n",
       "      <td>11.42</td>\n",
       "      <td>20.38</td>\n",
       "      <td>77.58</td>\n",
       "      <td>386.1</td>\n",
       "      <td>0.14250</td>\n",
       "      <td>0.28390</td>\n",
       "      <td>0.2414</td>\n",
       "      <td>0.10520</td>\n",
       "      <td>0.2597</td>\n",
       "      <td>0.09744</td>\n",
       "      <td>...</td>\n",
       "      <td>14.91</td>\n",
       "      <td>26.50</td>\n",
       "      <td>98.87</td>\n",
       "      <td>567.7</td>\n",
       "      <td>0.2098</td>\n",
       "      <td>0.8663</td>\n",
       "      <td>0.6869</td>\n",
       "      <td>0.2575</td>\n",
       "      <td>0.6638</td>\n",
       "      <td>0.17300</td>\n",
       "    </tr>\n",
       "    <tr>\n",
       "      <th>4</th>\n",
       "      <td>20.29</td>\n",
       "      <td>14.34</td>\n",
       "      <td>135.10</td>\n",
       "      <td>1297.0</td>\n",
       "      <td>0.10030</td>\n",
       "      <td>0.13280</td>\n",
       "      <td>0.1980</td>\n",
       "      <td>0.10430</td>\n",
       "      <td>0.1809</td>\n",
       "      <td>0.05883</td>\n",
       "      <td>...</td>\n",
       "      <td>22.54</td>\n",
       "      <td>16.67</td>\n",
       "      <td>152.20</td>\n",
       "      <td>1575.0</td>\n",
       "      <td>0.1374</td>\n",
       "      <td>0.2050</td>\n",
       "      <td>0.4000</td>\n",
       "      <td>0.1625</td>\n",
       "      <td>0.2364</td>\n",
       "      <td>0.07678</td>\n",
       "    </tr>\n",
       "  </tbody>\n",
       "</table>\n",
       "<p>5 rows × 30 columns</p>\n",
       "</div>"
      ],
      "text/plain": [
       "   mean radius  mean texture  mean perimeter  mean area  mean smoothness  \\\n",
       "0        17.99         10.38          122.80     1001.0          0.11840   \n",
       "1        20.57         17.77          132.90     1326.0          0.08474   \n",
       "2        19.69         21.25          130.00     1203.0          0.10960   \n",
       "3        11.42         20.38           77.58      386.1          0.14250   \n",
       "4        20.29         14.34          135.10     1297.0          0.10030   \n",
       "\n",
       "   mean compactness  mean concavity  mean concave points  mean symmetry  \\\n",
       "0           0.27760          0.3001              0.14710         0.2419   \n",
       "1           0.07864          0.0869              0.07017         0.1812   \n",
       "2           0.15990          0.1974              0.12790         0.2069   \n",
       "3           0.28390          0.2414              0.10520         0.2597   \n",
       "4           0.13280          0.1980              0.10430         0.1809   \n",
       "\n",
       "   mean fractal dimension  ...  worst radius  worst texture  worst perimeter  \\\n",
       "0                 0.07871  ...         25.38          17.33           184.60   \n",
       "1                 0.05667  ...         24.99          23.41           158.80   \n",
       "2                 0.05999  ...         23.57          25.53           152.50   \n",
       "3                 0.09744  ...         14.91          26.50            98.87   \n",
       "4                 0.05883  ...         22.54          16.67           152.20   \n",
       "\n",
       "   worst area  worst smoothness  worst compactness  worst concavity  \\\n",
       "0      2019.0            0.1622             0.6656           0.7119   \n",
       "1      1956.0            0.1238             0.1866           0.2416   \n",
       "2      1709.0            0.1444             0.4245           0.4504   \n",
       "3       567.7            0.2098             0.8663           0.6869   \n",
       "4      1575.0            0.1374             0.2050           0.4000   \n",
       "\n",
       "   worst concave points  worst symmetry  worst fractal dimension  \n",
       "0                0.2654          0.4601                  0.11890  \n",
       "1                0.1860          0.2750                  0.08902  \n",
       "2                0.2430          0.3613                  0.08758  \n",
       "3                0.2575          0.6638                  0.17300  \n",
       "4                0.1625          0.2364                  0.07678  \n",
       "\n",
       "[5 rows x 30 columns]"
      ]
     },
     "execution_count": 3,
     "metadata": {},
     "output_type": "execute_result"
    }
   ],
   "source": [
    "df = pd.DataFrame(dataset.data, columns=dataset.feature_names)\n",
    "df.head()"
   ]
  },
  {
   "cell_type": "code",
   "execution_count": 4,
   "metadata": {},
   "outputs": [
    {
     "name": "stdout",
     "output_type": "stream",
     "text": [
      "(398, 30) (171, 30)\n"
     ]
    },
    {
     "data": {
      "text/plain": [
       "GridSearchCV(cv=3, error_score='raise-deprecating',\n",
       "             estimator=KNeighborsClassifier(algorithm='auto', leaf_size=30,\n",
       "                                            metric='minkowski',\n",
       "                                            metric_params=None, n_jobs=None,\n",
       "                                            n_neighbors=5, p=2,\n",
       "                                            weights='uniform'),\n",
       "             iid='warn', n_jobs=None,\n",
       "             param_grid={'n_neighbors': [1, 3, 5, 7], 'p': [1, 2],\n",
       "                         'weights': ['uniform', 'distance']},\n",
       "             pre_dispatch='2*n_jobs', refit=True, return_train_score=False,\n",
       "             scoring=None, verbose=0)"
      ]
     },
     "execution_count": 4,
     "metadata": {},
     "output_type": "execute_result"
    }
   ],
   "source": [
    "from sklearn.model_selection import GridSearchCV\n",
    "\n",
    "x_train, x_test, y_train, y_test = train_test_split(x, y, random_state=42, test_size=0.3)\n",
    "print(x_train.shape, x_test.shape)\n",
    "\n",
    "# Params für KNN: n_neighbors (4), weights (2), p (2)\n",
    "# 4x2x2 = 16\n",
    "parameters = {\"n_neighbors\": [1, 3, 5, 7], \"weights\": [\"uniform\", \"distance\"], \"p\": [1, 2]}\n",
    "neigh = KNeighborsClassifier()\n",
    "\n",
    "# GridSearchCV \n",
    "# 16x3 = 48\n",
    "clf = GridSearchCV(neigh, parameters, cv=3)\n",
    "clf.fit(x_train, y_train)"
   ]
  },
  {
   "cell_type": "code",
   "execution_count": 7,
   "metadata": {
    "scrolled": true
   },
   "outputs": [
    {
     "name": "stdout",
     "output_type": "stream",
     "text": [
      "Best params set found: \n",
      "{'n_neighbors': 5, 'p': 1, 'weights': 'uniform'} \n",
      "\n",
      "0.920 (+/-0.015) for {'n_neighbors': 1, 'p': 1, 'weights': 'uniform'}\n",
      "0.920 (+/-0.015) for {'n_neighbors': 1, 'p': 1, 'weights': 'distance'}\n",
      "0.910 (+/-0.013) for {'n_neighbors': 1, 'p': 2, 'weights': 'uniform'}\n",
      "0.910 (+/-0.013) for {'n_neighbors': 1, 'p': 2, 'weights': 'distance'}\n",
      "0.917 (+/-0.043) for {'n_neighbors': 3, 'p': 1, 'weights': 'uniform'}\n",
      "0.915 (+/-0.036) for {'n_neighbors': 3, 'p': 1, 'weights': 'distance'}\n",
      "0.915 (+/-0.026) for {'n_neighbors': 3, 'p': 2, 'weights': 'uniform'}\n",
      "0.917 (+/-0.033) for {'n_neighbors': 3, 'p': 2, 'weights': 'distance'}\n",
      "0.930 (+/-0.014) for {'n_neighbors': 5, 'p': 1, 'weights': 'uniform'}\n",
      "0.927 (+/-0.019) for {'n_neighbors': 5, 'p': 1, 'weights': 'distance'}\n",
      "0.922 (+/-0.014) for {'n_neighbors': 5, 'p': 2, 'weights': 'uniform'}\n",
      "0.917 (+/-0.037) for {'n_neighbors': 5, 'p': 2, 'weights': 'distance'}\n",
      "0.915 (+/-0.026) for {'n_neighbors': 7, 'p': 1, 'weights': 'uniform'}\n",
      "0.915 (+/-0.032) for {'n_neighbors': 7, 'p': 1, 'weights': 'distance'}\n",
      "0.915 (+/-0.026) for {'n_neighbors': 7, 'p': 2, 'weights': 'uniform'}\n",
      "0.920 (+/-0.031) for {'n_neighbors': 7, 'p': 2, 'weights': 'distance'}\n"
     ]
    }
   ],
   "source": [
    "print(\"Best params set found: \")\n",
    "print(clf.best_params_, \"\\n\")\n",
    "\n",
    "means = clf.cv_results_[\"mean_test_score\"]\n",
    "stds = clf.cv_results_[\"std_test_score\"]\n",
    "\n",
    "for mean, std, params in zip(means, stds, clf.cv_results_[\"params\"]):\n",
    "    print(\"%0.3f (+/-%0.3f) for %r\" % (mean, std*2, params))"
   ]
  },
  {
   "cell_type": "code",
   "execution_count": 8,
   "metadata": {},
   "outputs": [
    {
     "name": "stdout",
     "output_type": "stream",
     "text": [
      "Score:  0.9590643274853801\n"
     ]
    }
   ],
   "source": [
    "neigh = KNeighborsClassifier(n_neighbors=5, p=1, weights=\"uniform\")\n",
    "neigh.fit(x_train, y_train)\n",
    "score = neigh.score(x_test, y_test)\n",
    "\n",
    "print(\"Score: \", score)"
   ]
  },
  {
   "cell_type": "code",
   "execution_count": 9,
   "metadata": {
    "scrolled": false
   },
   "outputs": [
    {
     "data": {
      "text/plain": [
       "[]"
      ]
     },
     "execution_count": 9,
     "metadata": {},
     "output_type": "execute_result"
    },
    {
     "data": {
      "image/png": "[encoded data removed]",
      "text/plain": [
       "<Figure size 432x288 with 1 Axes>"
      ]
     },
     "metadata": {
      "needs_background": "light"
     },
     "output_type": "display_data"
    }
   ],
   "source": [
    "#split0_test_score\n",
    "#split1_test_score\n",
    "#split2_test_score\n",
    "\n",
    "cv0 = clf.cv_results_[\"split0_test_score\"][8]\n",
    "cv1 = clf.cv_results_[\"split1_test_score\"][8]\n",
    "cv2 = clf.cv_results_[\"split2_test_score\"][8]\n",
    "\n",
    "plt.plot(range(3), [cv0, cv1, cv2], color=\"blue\")\n",
    "plt.xlim(0, 2)\n",
    "plt.ylim(0.85, 1.0)\n",
    "plt.axhline(np.mean([cv0, cv1, cv2]), color=\"red\")\n",
    "plt.plot()"
   ]
  },
  {
   "cell_type": "code",
   "execution_count": 19,
   "metadata": {},
   "outputs": [
    {
     "data": {
      "text/plain": [
       "RandomizedSearchCV(cv=3, error_score='raise-deprecating',\n",
       "                   estimator=KNeighborsClassifier(algorithm='auto',\n",
       "                                                  leaf_size=30,\n",
       "                                                  metric='minkowski',\n",
       "                                                  metric_params=None,\n",
       "                                                  n_jobs=None, n_neighbors=5,\n",
       "                                                  p=2, weights='uniform'),\n",
       "                   iid='warn', n_iter=100, n_jobs=None,\n",
       "                   param_distributions={'n_neighbors': <scipy.stats._distn_infrastructure.rv_frozen object at 0x000001FF29D32978>,\n",
       "                                        'p': [1, 2],\n",
       "                                        'weights': ['uniform', 'distance']},\n",
       "                   pre_dispatch='2*n_jobs', random_state=None, refit=True,\n",
       "                   return_train_score=False, scoring=None, verbose=0)"
      ]
     },
     "execution_count": 19,
     "metadata": {},
     "output_type": "execute_result"
    }
   ],
   "source": [
    "from sklearn.model_selection import RandomizedSearchCV\n",
    "from scipy.stats import randint as sp_randint\n",
    "\n",
    "param_dist = {\"n_neighbors\": sp_randint(1, 15), \"weights\": [\"uniform\", \"distance\"], \"p\": [1, 2]}\n",
    "n_iter_search = 100\n",
    "\n",
    "neigh = KNeighborsClassifier()\n",
    "\n",
    "# 16x3 = 100\n",
    "clf = RandomizedSearchCV(neigh, param_distributions=param_dist, n_iter=n_iter_search, cv=3)\n",
    "clf.fit(x_train, y_train)"
   ]
  },
  {
   "cell_type": "code",
   "execution_count": 20,
   "metadata": {},
   "outputs": [
    {
     "name": "stdout",
     "output_type": "stream",
     "text": [
      "Best params set found: \n",
      "{'n_neighbors': 6, 'p': 1, 'weights': 'uniform'} \n",
      "\n",
      "0.917 (+/-0.037) for {'n_neighbors': 9, 'p': 2, 'weights': 'distance'}\n",
      "0.920 (+/-0.031) for {'n_neighbors': 7, 'p': 2, 'weights': 'distance'}\n",
      "0.917 (+/-0.043) for {'n_neighbors': 3, 'p': 1, 'weights': 'uniform'}\n",
      "0.915 (+/-0.044) for {'n_neighbors': 12, 'p': 1, 'weights': 'distance'}\n",
      "0.930 (+/-0.044) for {'n_neighbors': 4, 'p': 1, 'weights': 'distance'}\n",
      "0.917 (+/-0.025) for {'n_neighbors': 8, 'p': 2, 'weights': 'distance'}\n",
      "0.920 (+/-0.015) for {'n_neighbors': 2, 'p': 1, 'weights': 'distance'}\n",
      "0.915 (+/-0.044) for {'n_neighbors': 13, 'p': 1, 'weights': 'uniform'}\n",
      "0.915 (+/-0.026) for {'n_neighbors': 3, 'p': 2, 'weights': 'uniform'}\n",
      "0.917 (+/-0.033) for {'n_neighbors': 11, 'p': 2, 'weights': 'distance'}\n",
      "0.917 (+/-0.037) for {'n_neighbors': 9, 'p': 2, 'weights': 'distance'}\n",
      "0.920 (+/-0.015) for {'n_neighbors': 1, 'p': 1, 'weights': 'distance'}\n",
      "0.912 (+/-0.038) for {'n_neighbors': 11, 'p': 2, 'weights': 'uniform'}\n",
      "0.915 (+/-0.026) for {'n_neighbors': 7, 'p': 1, 'weights': 'uniform'}\n",
      "0.930 (+/-0.014) for {'n_neighbors': 5, 'p': 1, 'weights': 'uniform'}\n",
      "0.917 (+/-0.043) for {'n_neighbors': 3, 'p': 1, 'weights': 'uniform'}\n",
      "0.917 (+/-0.025) for {'n_neighbors': 8, 'p': 2, 'weights': 'distance'}\n",
      "0.920 (+/-0.044) for {'n_neighbors': 12, 'p': 1, 'weights': 'uniform'}\n",
      "0.917 (+/-0.037) for {'n_neighbors': 10, 'p': 1, 'weights': 'distance'}\n",
      "0.925 (+/-0.037) for {'n_neighbors': 8, 'p': 1, 'weights': 'distance'}\n",
      "0.917 (+/-0.025) for {'n_neighbors': 8, 'p': 2, 'weights': 'distance'}\n",
      "0.920 (+/-0.007) for {'n_neighbors': 4, 'p': 2, 'weights': 'uniform'}\n",
      "0.927 (+/-0.050) for {'n_neighbors': 6, 'p': 1, 'weights': 'distance'}\n",
      "0.930 (+/-0.019) for {'n_neighbors': 8, 'p': 1, 'weights': 'uniform'}\n",
      "0.930 (+/-0.014) for {'n_neighbors': 5, 'p': 1, 'weights': 'uniform'}\n",
      "0.930 (+/-0.044) for {'n_neighbors': 4, 'p': 1, 'weights': 'distance'}\n",
      "0.889 (+/-0.018) for {'n_neighbors': 2, 'p': 2, 'weights': 'uniform'}\n",
      "0.912 (+/-0.031) for {'n_neighbors': 14, 'p': 2, 'weights': 'distance'}\n",
      "0.910 (+/-0.025) for {'n_neighbors': 12, 'p': 2, 'weights': 'distance'}\n",
      "0.920 (+/-0.015) for {'n_neighbors': 1, 'p': 1, 'weights': 'distance'}\n",
      "0.917 (+/-0.033) for {'n_neighbors': 11, 'p': 2, 'weights': 'distance'}\n",
      "0.912 (+/-0.031) for {'n_neighbors': 14, 'p': 2, 'weights': 'distance'}\n",
      "0.930 (+/-0.014) for {'n_neighbors': 5, 'p': 1, 'weights': 'uniform'}\n",
      "0.917 (+/-0.037) for {'n_neighbors': 10, 'p': 1, 'weights': 'distance'}\n",
      "0.912 (+/-0.038) for {'n_neighbors': 11, 'p': 2, 'weights': 'uniform'}\n",
      "0.917 (+/-0.033) for {'n_neighbors': 11, 'p': 2, 'weights': 'distance'}\n",
      "0.907 (+/-0.007) for {'n_neighbors': 2, 'p': 1, 'weights': 'uniform'}\n",
      "0.912 (+/-0.026) for {'n_neighbors': 12, 'p': 2, 'weights': 'uniform'}\n",
      "0.917 (+/-0.037) for {'n_neighbors': 9, 'p': 2, 'weights': 'uniform'}\n",
      "0.907 (+/-0.007) for {'n_neighbors': 2, 'p': 1, 'weights': 'uniform'}\n",
      "0.930 (+/-0.019) for {'n_neighbors': 8, 'p': 1, 'weights': 'uniform'}\n",
      "0.927 (+/-0.050) for {'n_neighbors': 6, 'p': 1, 'weights': 'distance'}\n",
      "0.920 (+/-0.015) for {'n_neighbors': 2, 'p': 1, 'weights': 'distance'}\n",
      "0.917 (+/-0.037) for {'n_neighbors': 9, 'p': 2, 'weights': 'distance'}\n",
      "0.920 (+/-0.044) for {'n_neighbors': 12, 'p': 1, 'weights': 'uniform'}\n",
      "0.927 (+/-0.019) for {'n_neighbors': 5, 'p': 1, 'weights': 'distance'}\n",
      "0.927 (+/-0.050) for {'n_neighbors': 6, 'p': 1, 'weights': 'distance'}\n",
      "0.912 (+/-0.031) for {'n_neighbors': 14, 'p': 2, 'weights': 'distance'}\n",
      "0.917 (+/-0.025) for {'n_neighbors': 8, 'p': 2, 'weights': 'distance'}\n",
      "0.922 (+/-0.044) for {'n_neighbors': 9, 'p': 1, 'weights': 'distance'}\n",
      "0.907 (+/-0.007) for {'n_neighbors': 2, 'p': 1, 'weights': 'uniform'}\n",
      "0.915 (+/-0.026) for {'n_neighbors': 7, 'p': 1, 'weights': 'uniform'}\n",
      "0.925 (+/-0.037) for {'n_neighbors': 8, 'p': 1, 'weights': 'distance'}\n",
      "0.915 (+/-0.044) for {'n_neighbors': 12, 'p': 1, 'weights': 'distance'}\n",
      "0.889 (+/-0.018) for {'n_neighbors': 2, 'p': 2, 'weights': 'uniform'}\n",
      "0.917 (+/-0.022) for {'n_neighbors': 4, 'p': 2, 'weights': 'distance'}\n",
      "0.927 (+/-0.019) for {'n_neighbors': 5, 'p': 1, 'weights': 'distance'}\n",
      "0.917 (+/-0.037) for {'n_neighbors': 9, 'p': 2, 'weights': 'distance'}\n",
      "0.910 (+/-0.013) for {'n_neighbors': 1, 'p': 2, 'weights': 'distance'}\n",
      "0.917 (+/-0.033) for {'n_neighbors': 11, 'p': 2, 'weights': 'distance'}\n",
      "0.917 (+/-0.037) for {'n_neighbors': 10, 'p': 2, 'weights': 'uniform'}\n",
      "0.920 (+/-0.015) for {'n_neighbors': 2, 'p': 1, 'weights': 'distance'}\n",
      "0.917 (+/-0.043) for {'n_neighbors': 3, 'p': 1, 'weights': 'uniform'}\n",
      "0.910 (+/-0.013) for {'n_neighbors': 1, 'p': 2, 'weights': 'uniform'}\n",
      "0.917 (+/-0.033) for {'n_neighbors': 11, 'p': 2, 'weights': 'distance'}\n",
      "0.920 (+/-0.007) for {'n_neighbors': 4, 'p': 2, 'weights': 'uniform'}\n",
      "0.912 (+/-0.038) for {'n_neighbors': 11, 'p': 2, 'weights': 'uniform'}\n",
      "0.910 (+/-0.013) for {'n_neighbors': 2, 'p': 2, 'weights': 'distance'}\n",
      "0.917 (+/-0.037) for {'n_neighbors': 5, 'p': 2, 'weights': 'distance'}\n",
      "0.927 (+/-0.019) for {'n_neighbors': 5, 'p': 1, 'weights': 'distance'}\n",
      "0.920 (+/-0.015) for {'n_neighbors': 1, 'p': 1, 'weights': 'distance'}\n",
      "0.920 (+/-0.031) for {'n_neighbors': 9, 'p': 1, 'weights': 'uniform'}\n",
      "0.917 (+/-0.025) for {'n_neighbors': 8, 'p': 2, 'weights': 'distance'}\n",
      "0.889 (+/-0.018) for {'n_neighbors': 2, 'p': 2, 'weights': 'uniform'}\n",
      "0.935 (+/-0.026) for {'n_neighbors': 6, 'p': 1, 'weights': 'uniform'}\n",
      "0.920 (+/-0.015) for {'n_neighbors': 1, 'p': 1, 'weights': 'distance'}\n",
      "0.915 (+/-0.044) for {'n_neighbors': 12, 'p': 1, 'weights': 'distance'}\n",
      "0.917 (+/-0.037) for {'n_neighbors': 10, 'p': 2, 'weights': 'uniform'}\n",
      "0.912 (+/-0.031) for {'n_neighbors': 14, 'p': 2, 'weights': 'distance'}\n",
      "0.910 (+/-0.025) for {'n_neighbors': 10, 'p': 2, 'weights': 'distance'}\n",
      "0.927 (+/-0.050) for {'n_neighbors': 6, 'p': 1, 'weights': 'distance'}\n",
      "0.920 (+/-0.044) for {'n_neighbors': 12, 'p': 1, 'weights': 'uniform'}\n",
      "0.920 (+/-0.031) for {'n_neighbors': 9, 'p': 1, 'weights': 'uniform'}\n",
      "0.912 (+/-0.038) for {'n_neighbors': 11, 'p': 2, 'weights': 'uniform'}\n",
      "0.920 (+/-0.007) for {'n_neighbors': 4, 'p': 2, 'weights': 'uniform'}\n",
      "0.920 (+/-0.007) for {'n_neighbors': 4, 'p': 2, 'weights': 'uniform'}\n",
      "0.925 (+/-0.037) for {'n_neighbors': 8, 'p': 1, 'weights': 'distance'}\n",
      "0.912 (+/-0.026) for {'n_neighbors': 12, 'p': 2, 'weights': 'uniform'}\n",
      "0.920 (+/-0.044) for {'n_neighbors': 12, 'p': 1, 'weights': 'uniform'}\n",
      "0.917 (+/-0.043) for {'n_neighbors': 3, 'p': 1, 'weights': 'uniform'}\n",
      "0.930 (+/-0.014) for {'n_neighbors': 5, 'p': 1, 'weights': 'uniform'}\n",
      "0.910 (+/-0.038) for {'n_neighbors': 14, 'p': 2, 'weights': 'uniform'}\n",
      "0.917 (+/-0.037) for {'n_neighbors': 9, 'p': 2, 'weights': 'distance'}\n",
      "0.917 (+/-0.022) for {'n_neighbors': 4, 'p': 2, 'weights': 'distance'}\n",
      "0.922 (+/-0.044) for {'n_neighbors': 9, 'p': 1, 'weights': 'distance'}\n",
      "0.917 (+/-0.022) for {'n_neighbors': 4, 'p': 2, 'weights': 'distance'}\n",
      "0.930 (+/-0.044) for {'n_neighbors': 4, 'p': 1, 'weights': 'distance'}\n",
      "0.912 (+/-0.026) for {'n_neighbors': 12, 'p': 2, 'weights': 'uniform'}\n",
      "0.910 (+/-0.013) for {'n_neighbors': 1, 'p': 2, 'weights': 'distance'}\n",
      "0.920 (+/-0.015) for {'n_neighbors': 1, 'p': 1, 'weights': 'distance'}\n"
     ]
    }
   ],
   "source": [
    "print(\"Best params set found: \")\n",
    "print(clf.best_params_, \"\\n\")\n",
    "\n",
    "means = clf.cv_results_[\"mean_test_score\"]\n",
    "stds = clf.cv_results_[\"std_test_score\"]\n",
    "\n",
    "for mean, std, params in zip(means, stds, clf.cv_results_[\"params\"]):\n",
    "    print(\"%0.3f (+/-%0.3f) for %r\" % (mean, std*2, params))"
   ]
  },
  {
   "cell_type": "code",
   "execution_count": 21,
   "metadata": {},
   "outputs": [
    {
     "name": "stdout",
     "output_type": "stream",
     "text": [
      "Score:  0.9766081871345029\n"
     ]
    }
   ],
   "source": [
    "neigh = KNeighborsClassifier(n_neighbors=6, p=1, weights=\"uniform\")\n",
    "neigh.fit(x_train, y_train)\n",
    "score = neigh.score(x_test, y_test)\n",
    "\n",
    "print(\"Score: \", score)"
   ]
  },
  {
   "cell_type": "code",
   "execution_count": 22,
   "metadata": {},
   "outputs": [
    {
     "data": {
      "text/plain": [
       "[]"
      ]
     },
     "execution_count": 22,
     "metadata": {},
     "output_type": "execute_result"
    },
    {
     "data": {
      "image/png": "[encoded data removed]",
      "text/plain": [
       "<Figure size 432x288 with 1 Axes>"
      ]
     },
     "metadata": {
      "needs_background": "light"
     },
     "output_type": "display_data"
    }
   ],
   "source": [
    "#split0_test_score\n",
    "#split1_test_score\n",
    "#split2_test_score\n",
    "\n",
    "cv0 = clf.cv_results_[\"split0_test_score\"][8]\n",
    "cv1 = clf.cv_results_[\"split1_test_score\"][8]\n",
    "cv2 = clf.cv_results_[\"split2_test_score\"][8]\n",
    "\n",
    "plt.plot(range(3), [cv0, cv1, cv2], color=\"blue\")\n",
    "plt.xlim(0, 2)\n",
    "plt.ylim(0.85, 1.0)\n",
    "plt.axhline(np.mean([cv0, cv1, cv2]), color=\"red\")\n",
    "plt.plot()"
   ]
  }
 ],
 "metadata": {
  "kernelspec": {
   "display_name": "Python 3",
   "language": "python",
   "name": "python3"
  },
  "language_info": {
   "codemirror_mode": {
    "name": "ipython",
    "version": 3
   },
   "file_extension": ".py",
   "mimetype": "text/x-python",
   "name": "python",
   "nbconvert_exporter": "python",
   "pygments_lexer": "ipython3",
   "version": "3.7.3"
  }
 },
 "nbformat": 4,
 "nbformat_minor": 2
}
