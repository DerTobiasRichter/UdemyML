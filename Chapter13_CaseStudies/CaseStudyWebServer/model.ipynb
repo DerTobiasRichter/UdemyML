{
 "cells": [
  {
   "cell_type": "code",
   "execution_count": 28,
   "metadata": {},
   "outputs": [],
   "source": [
    "import numpy as np\n",
    "import pandas as pd"
   ]
  },
  {
   "cell_type": "code",
   "execution_count": 29,
   "metadata": {},
   "outputs": [
    {
     "name": "stdout",
     "output_type": "stream",
     "text": [
      "   Unnamed: 0  id groups  age  healthy_eating  active_lifestyle  salary\n",
      "0           0   0      A   36               5                 5    2297\n",
      "1           1   1      A   55               3                 5    1134\n",
      "2           2   2      A   61               8                 1    4969\n",
      "3           3   3      O   29               3                 6     902\n",
      "4           4   4      O   34               6                 2    3574\n"
     ]
    }
   ],
   "source": [
    "dataset = pd.read_csv(\"employee_data.csv\")\n",
    "print(dataset.head())"
   ]
  },
  {
   "cell_type": "code",
   "execution_count": 30,
   "metadata": {},
   "outputs": [
    {
     "name": "stdout",
     "output_type": "stream",
     "text": [
      "  groups  age  healthy_eating  active_lifestyle  salary\n",
      "0      A   36               5                 5    2297\n",
      "1      A   55               3                 5    1134\n",
      "2      A   61               8                 1    4969\n",
      "3      O   29               3                 6     902\n",
      "4      O   34               6                 2    3574\n"
     ]
    }
   ],
   "source": [
    "dataset = dataset.drop(\"Unnamed: 0\", 1)\n",
    "dataset = dataset.drop(\"id\", 1)\n",
    "print(dataset.head())"
   ]
  },
  {
   "cell_type": "code",
   "execution_count": 31,
   "metadata": {},
   "outputs": [
    {
     "name": "stdout",
     "output_type": "stream",
     "text": [
      "[['A' 36 5 5 2297]\n",
      " ['A' 55 3 5 1134]\n",
      " ['A' 61 8 1 4969]\n",
      " ...\n",
      " ['O' 49 9 7 4158]\n",
      " ['AB' 56 6 7 2414]\n",
      " ['B' 64 4 9 788]]\n"
     ]
    },
    {
     "name": "stderr",
     "output_type": "stream",
     "text": [
      "C:\\ProgramData\\Anaconda3\\lib\\site-packages\\ipykernel_launcher.py:1: FutureWarning: Method .as_matrix will be removed in a future version. Use .values instead.\n",
      "  \"\"\"Entry point for launching an IPython kernel.\n"
     ]
    }
   ],
   "source": [
    "dataset = dataset.as_matrix()\n",
    "print(dataset)"
   ]
  },
  {
   "cell_type": "code",
   "execution_count": 32,
   "metadata": {},
   "outputs": [
    {
     "name": "stdout",
     "output_type": "stream",
     "text": [
      "['A' 36 5 5] 2297\n"
     ]
    }
   ],
   "source": [
    "x = dataset[:, :-1]\n",
    "y = dataset[:, -1]\n",
    "\n",
    "print(x[0], y[0])"
   ]
  },
  {
   "cell_type": "code",
   "execution_count": 33,
   "metadata": {},
   "outputs": [
    {
     "name": "stdout",
     "output_type": "stream",
     "text": [
      "(1000, 4)\n",
      "[1 0 0 0]\n"
     ]
    }
   ],
   "source": [
    "from sklearn.preprocessing import OneHotEncoder\n",
    "\n",
    "enc = OneHotEncoder(handle_unknown=\"ignore\", dtype=np.int8)\n",
    "enc.fit(x[:, [0]])\n",
    "x_cat = enc.transform(x[:, [0]]).toarray()\n",
    "print(x_cat.shape)\n",
    "print(x_cat[0])"
   ]
  },
  {
   "cell_type": "code",
   "execution_count": 34,
   "metadata": {},
   "outputs": [
    {
     "name": "stdout",
     "output_type": "stream",
     "text": [
      "(1000, 7)\n",
      "[1 0 0 0 36 5 5]\n"
     ]
    }
   ],
   "source": [
    "x_cat = np.append(x_cat, x[:, 1:], axis=1)\n",
    "print(x_cat.shape)\n",
    "print(x_cat[0])"
   ]
  },
  {
   "cell_type": "code",
   "execution_count": 35,
   "metadata": {},
   "outputs": [],
   "source": [
    "from sklearn.model_selection import train_test_split\n",
    "\n",
    "x_train, x_test, y_train, y_test = train_test_split(x_cat, y, test_size=0.3, random_state=42)"
   ]
  },
  {
   "cell_type": "code",
   "execution_count": 36,
   "metadata": {},
   "outputs": [
    {
     "name": "stdout",
     "output_type": "stream",
     "text": [
      "Score:  0.9034071894250446\n"
     ]
    }
   ],
   "source": [
    "from sklearn.linear_model import LinearRegression\n",
    "\n",
    "regr = LinearRegression()\n",
    "regr.fit(x_train, y_train)\n",
    "score = regr.score(x_test, y_test)\n",
    "print(\"Score: \", score)"
   ]
  },
  {
   "cell_type": "code",
   "execution_count": 37,
   "metadata": {},
   "outputs": [
    {
     "name": "stdout",
     "output_type": "stream",
     "text": [
      "[3759.76073213]\n"
     ]
    }
   ],
   "source": [
    "import pickle\n",
    "\n",
    "pickle.dump(regr, open(\"model.pkl\", \"wb\"))\n",
    "regr = pickle.load(open(\"model.pkl\", \"rb\"))\n",
    "\n",
    "sample = np.array([1, 0, 0, 0, 40, 10, 10])\n",
    "print(regr.predict([sample]))"
   ]
  }
 ],
 "metadata": {
  "kernelspec": {
   "display_name": "Python 3",
   "language": "python",
   "name": "python3"
  },
  "language_info": {
   "codemirror_mode": {
    "name": "ipython",
    "version": 3
   },
   "file_extension": ".py",
   "mimetype": "text/x-python",
   "name": "python",
   "nbconvert_exporter": "python",
   "pygments_lexer": "ipython3",
   "version": "3.7.3"
  }
 },
 "nbformat": 4,
 "nbformat_minor": 2
}
