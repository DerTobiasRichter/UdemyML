{
 "cells": [
  {
   "cell_type": "code",
   "execution_count": 7,
   "metadata": {
    "scrolled": false
   },
   "outputs": [
    {
     "name": "stdout",
     "output_type": "stream",
     "text": [
      "(150, 2)\n",
      "(150,)\n"
     ]
    }
   ],
   "source": [
    "# Load Iris Dataset\n",
    "import numpy as np\n",
    "from sklearn import datasets\n",
    "\n",
    "# Load Dataset with first 2 Features\n",
    "iris = datasets.load_iris()\n",
    "x = iris.data[:, :2]\n",
    "y = iris.target\n",
    "print(x.shape)\n",
    "print(y.shape)\n",
    "\n",
    "# Dataset variables\n",
    "num_samples = x.shape[0]\n",
    "num_features = x.shape[1]\n",
    "num_classes = 3\n",
    "test_size = 20\n",
    "train_size = num_samples - test_size\n",
    "\n",
    "# Split Data in Train and Testset\n",
    "indices = np.random.permutation(num_samples)\n",
    "x_train = x[indices[:-20]]\n",
    "y_train = y[indices[:-20]]\n",
    "\n",
    "x_test = x[indices[-20:]]\n",
    "y_test = y[indices[-20:]]"
   ]
  },
  {
   "cell_type": "code",
   "execution_count": 8,
   "metadata": {},
   "outputs": [
    {
     "name": "stdout",
     "output_type": "stream",
     "text": [
      "(130, 2)\n",
      "(130,)\n",
      "(20, 2)\n",
      "(20,)\n"
     ]
    }
   ],
   "source": [
    "# Training Size\n",
    "print(x_train.shape)\n",
    "print(y_train.shape)\n",
    "\n",
    "# Testing Size\n",
    "print(x_test.shape)\n",
    "print(y_test.shape)"
   ]
  }
 ],
 "metadata": {
  "kernelspec": {
   "display_name": "Python 3",
   "language": "python",
   "name": "python3"
  },
  "language_info": {
   "codemirror_mode": {
    "name": "ipython",
    "version": 3
   },
   "file_extension": ".py",
   "mimetype": "text/x-python",
   "name": "python",
   "nbconvert_exporter": "python",
   "pygments_lexer": "ipython3",
   "version": "3.7.1"
  }
 },
 "nbformat": 4,
 "nbformat_minor": 2
}
