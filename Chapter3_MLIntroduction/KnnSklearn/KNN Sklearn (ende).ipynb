{
 "cells": [
  {
   "cell_type": "code",
   "execution_count": 29,
   "metadata": {
    "scrolled": false
   },
   "outputs": [
    {
     "name": "stdout",
     "output_type": "stream",
     "text": [
      "(150, 2)\n",
      "(150,)\n"
     ]
    }
   ],
   "source": [
    "# Load Iris Dataset\n",
    "import numpy as np\n",
    "from sklearn import datasets\n",
    "\n",
    "# Load Dataset with first 2 Features\n",
    "iris = datasets.load_iris()\n",
    "x = iris.data[:, :2]\n",
    "y = iris.target\n",
    "print(x.shape)\n",
    "print(y.shape)\n",
    "\n",
    "# Dataset variables\n",
    "num_samples = x.shape[0]\n",
    "num_features = x.shape[1]\n",
    "num_classes = 3\n",
    "test_size = 20\n",
    "train_size = num_samples - test_size\n",
    "\n",
    "# Split Data in Train and Testset\n",
    "indices = np.random.permutation(num_samples)\n",
    "x_train = x[indices[:-20]]\n",
    "y_train = y[indices[:-20]]\n",
    "\n",
    "x_test = x[indices[-20:]]\n",
    "y_test = y[indices[-20:]]"
   ]
  },
  {
   "cell_type": "code",
   "execution_count": 30,
   "metadata": {
    "scrolled": true
   },
   "outputs": [
    {
     "name": "stdout",
     "output_type": "stream",
     "text": [
      "(130, 2)\n",
      "(130,)\n",
      "(20, 2)\n",
      "(20,)\n"
     ]
    }
   ],
   "source": [
    "# Training Size\n",
    "print(x_train.shape)\n",
    "print(y_train.shape)\n",
    "\n",
    "# Testing Size\n",
    "print(x_test.shape)\n",
    "print(y_test.shape)"
   ]
  },
  {
   "cell_type": "code",
   "execution_count": 31,
   "metadata": {
    "scrolled": true
   },
   "outputs": [
    {
     "name": "stdout",
     "output_type": "stream",
     "text": [
      "Score for setup:  1  N,  uniform  W - Score =  0.55\n",
      "Score for setup:  1  N,  distance  W - Score =  0.55\n",
      "Score for setup:  2  N,  uniform  W - Score =  0.6\n",
      "Score for setup:  2  N,  distance  W - Score =  0.55\n",
      "Score for setup:  3  N,  uniform  W - Score =  0.65\n",
      "Score for setup:  3  N,  distance  W - Score =  0.6\n",
      "Score for setup:  4  N,  uniform  W - Score =  0.55\n",
      "Score for setup:  4  N,  distance  W - Score =  0.6\n",
      "Score for setup:  5  N,  uniform  W - Score =  0.65\n",
      "Score for setup:  5  N,  distance  W - Score =  0.6\n",
      "Score for setup:  6  N,  uniform  W - Score =  0.7\n",
      "Score for setup:  6  N,  distance  W - Score =  0.6\n",
      "Score for setup:  7  N,  uniform  W - Score =  0.75\n",
      "Score for setup:  7  N,  distance  W - Score =  0.6\n",
      "Score for setup:  8  N,  uniform  W - Score =  0.65\n",
      "Score for setup:  8  N,  distance  W - Score =  0.6\n",
      "Score for setup:  9  N,  uniform  W - Score =  0.8\n",
      "Score for setup:  9  N,  distance  W - Score =  0.6\n",
      "Score for setup:  10  N,  uniform  W - Score =  0.65\n",
      "Score for setup:  10  N,  distance  W - Score =  0.6\n"
     ]
    }
   ],
   "source": [
    "# Model\n",
    "from sklearn.neighbors import KNeighborsClassifier\n",
    "\n",
    "neighbors = [i for i in range(1, 11)] # [1, 2, ...., 10]\n",
    "weights = [\"uniform\", \"distance\"]\n",
    "\n",
    "# 10 x 2 = 20 Modelle\n",
    "for neighbor in neighbors:\n",
    "    for weight in weights:\n",
    "        knn = KNeighborsClassifier(n_neighbors=neighbor, weights=weight)\n",
    "        knn.fit(x_train, y_train)\n",
    "        score = knn.score(x_test, y_test)\n",
    "        print(\"Score for setup: \", neighbor, \" N, \", weight, \" W - Score = \", score) # Score: Genauigkeit (Accuracy)"
   ]
  },
  {
   "cell_type": "code",
   "execution_count": 35,
   "metadata": {},
   "outputs": [
    {
     "name": "stdout",
     "output_type": "stream",
     "text": [
      "Predictions vs. Classes:\n",
      "Pred:  [1 1 1 2 2 2 1 2 2 2 0 2 2 0 0 1 0 2 0 1]\n",
      "Class:  [1 2 2 1 2 2 2 1 2 2 0 1 1 0 0 1 0 2 0 2]\n",
      "\n",
      "Prediction Probs:\n",
      "[[0.         1.         0.        ]\n",
      " [0.         0.58578644 0.41421356]\n",
      " [0.         0.5        0.5       ]\n",
      " [0.         0.         1.        ]\n",
      " [0.         0.         1.        ]\n",
      " [0.         0.19074357 0.80925643]\n",
      " [0.         1.         0.        ]\n",
      " [0.         0.33333333 0.66666667]\n",
      " [0.         0.         1.        ]\n",
      " [0.         0.         1.        ]\n",
      " [1.         0.         0.        ]\n",
      " [0.         0.24264069 0.75735931]\n",
      " [0.         0.         1.        ]\n",
      " [1.         0.         0.        ]\n",
      " [1.         0.         0.        ]\n",
      " [0.         0.58278678 0.41721322]\n",
      " [1.         0.         0.        ]\n",
      " [0.         0.         1.        ]\n",
      " [1.         0.         0.        ]\n",
      " [0.         1.         0.        ]]\n"
     ]
    }
   ],
   "source": [
    "# Use \"best Setup\"\n",
    "best_neighbor = 4\n",
    "best_weight = \"distance\"\n",
    "\n",
    "knn = KNeighborsClassifier(n_neighbors=best_neighbor, weights=best_weight)\n",
    "knn.fit(x_train, y_train)\n",
    "\n",
    "pred = knn.predict(x_test)\n",
    "pred_prob = knn.predict_proba(x_test)\n",
    "\n",
    "print(\"Predictions vs. Classes:\")\n",
    "print(\"Pred: \", pred)\n",
    "print(\"Class: \", y_test)\n",
    "print(\"\\nPrediction Probs:\")\n",
    "print(pred_prob)"
   ]
  }
 ],
 "metadata": {
  "kernelspec": {
   "display_name": "Python 3",
   "language": "python",
   "name": "python3"
  },
  "language_info": {
   "codemirror_mode": {
    "name": "ipython",
    "version": 3
   },
   "file_extension": ".py",
   "mimetype": "text/x-python",
   "name": "python",
   "nbconvert_exporter": "python",
   "pygments_lexer": "ipython3",
   "version": "3.7.1"
  }
 },
 "nbformat": 4,
 "nbformat_minor": 2
}
